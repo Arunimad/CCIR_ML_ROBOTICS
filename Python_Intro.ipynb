{
  "nbformat": 4,
  "nbformat_minor": 0,
  "metadata": {
    "colab": {
      "provenance": []
    },
    "kernelspec": {
      "name": "python3",
      "display_name": "Python 3"
    },
    "language_info": {
      "name": "python"
    }
  },
  "cells": [
    {
      "cell_type": "markdown",
      "source": [
        "# Simple math operations in Python"
      ],
      "metadata": {
        "id": "1OHpxlcQFZn8"
      }
    },
    {
      "cell_type": "markdown",
      "source": [
        "Numbers"
      ],
      "metadata": {
        "id": "xHdm0EeaJpHG"
      }
    },
    {
      "cell_type": "code",
      "source": [
        "1"
      ],
      "metadata": {
        "id": "5sMEhgnyJrJA",
        "colab": {
          "base_uri": "https://localhost:8080/"
        },
        "outputId": "24002fb7-825d-40c9-eff9-9bc44c769643"
      },
      "execution_count": 1,
      "outputs": [
        {
          "output_type": "execute_result",
          "data": {
            "text/plain": [
              "1"
            ]
          },
          "metadata": {},
          "execution_count": 1
        }
      ]
    },
    {
      "cell_type": "markdown",
      "source": [
        "Strings"
      ],
      "metadata": {
        "id": "hY0fbh9YJuwu"
      }
    },
    {
      "cell_type": "code",
      "source": [
        "\"apple\""
      ],
      "metadata": {
        "id": "hX-I3FbKJwaK",
        "colab": {
          "base_uri": "https://localhost:8080/",
          "height": 35
        },
        "outputId": "cbf83d00-c899-451c-9c53-8ce04d4a1326"
      },
      "execution_count": 2,
      "outputs": [
        {
          "output_type": "execute_result",
          "data": {
            "text/plain": [
              "'apple'"
            ],
            "application/vnd.google.colaboratory.intrinsic+json": {
              "type": "string"
            }
          },
          "metadata": {},
          "execution_count": 2
        }
      ]
    },
    {
      "cell_type": "markdown",
      "source": [
        "List, dict, tuples"
      ],
      "metadata": {
        "id": "TTMEPaTeJ445"
      }
    },
    {
      "cell_type": "code",
      "source": [
        "[1, 2, 3]"
      ],
      "metadata": {
        "id": "k9EdXMmyJ7E9",
        "colab": {
          "base_uri": "https://localhost:8080/"
        },
        "outputId": "565e2ff4-5064-4d67-b48f-4dcb83d236e3"
      },
      "execution_count": 3,
      "outputs": [
        {
          "output_type": "execute_result",
          "data": {
            "text/plain": [
              "[1, 2, 3]"
            ]
          },
          "metadata": {},
          "execution_count": 3
        }
      ]
    },
    {
      "cell_type": "code",
      "source": [
        "{\"apple\": \"a fruit\", \"banana\": \"an herb\", \"monkey\": \"a mammal\"}"
      ],
      "metadata": {
        "id": "k0jgPm_CJ8ni",
        "colab": {
          "base_uri": "https://localhost:8080/"
        },
        "outputId": "62ee9a58-b31c-466f-d1dc-aab9ea210df0"
      },
      "execution_count": 4,
      "outputs": [
        {
          "output_type": "execute_result",
          "data": {
            "text/plain": [
              "{'apple': 'a fruit', 'banana': 'an herb', 'monkey': 'a mammal'}"
            ]
          },
          "metadata": {},
          "execution_count": 4
        }
      ]
    },
    {
      "cell_type": "markdown",
      "source": [
        "Print"
      ],
      "metadata": {
        "id": "Dk_-f89lKCyT"
      }
    },
    {
      "cell_type": "code",
      "source": [
        "print(1)"
      ],
      "metadata": {
        "id": "BZn43sm0KEuM",
        "colab": {
          "base_uri": "https://localhost:8080/"
        },
        "outputId": "29088188-bdf6-4275-bbb3-252731e99271"
      },
      "execution_count": 5,
      "outputs": [
        {
          "output_type": "stream",
          "name": "stdout",
          "text": [
            "1\n"
          ]
        }
      ]
    },
    {
      "cell_type": "code",
      "source": [
        "print (5+2)"
      ],
      "metadata": {
        "id": "nbFuEjvN9_1v",
        "colab": {
          "base_uri": "https://localhost:8080/"
        },
        "outputId": "70bda9bc-5e34-408d-ab92-1b6eacac6434"
      },
      "execution_count": 6,
      "outputs": [
        {
          "output_type": "stream",
          "name": "stdout",
          "text": [
            "7\n"
          ]
        }
      ]
    },
    {
      "cell_type": "code",
      "source": [
        "print(\"Hello\")"
      ],
      "metadata": {
        "id": "1-Iwe-0rKG7x",
        "colab": {
          "base_uri": "https://localhost:8080/"
        },
        "outputId": "889da2aa-343d-465d-a3c2-3972614eb893"
      },
      "execution_count": 7,
      "outputs": [
        {
          "output_type": "stream",
          "name": "stdout",
          "text": [
            "Hello\n"
          ]
        }
      ]
    },
    {
      "cell_type": "markdown",
      "source": [
        "Addition"
      ],
      "metadata": {
        "id": "CE8t41MHFdh4"
      }
    },
    {
      "cell_type": "code",
      "execution_count": 8,
      "metadata": {
        "id": "uBvnU5J-FQVV",
        "colab": {
          "base_uri": "https://localhost:8080/"
        },
        "outputId": "62abfe32-ac57-4a79-d80b-6db8491bb3ae"
      },
      "outputs": [
        {
          "output_type": "stream",
          "name": "stdout",
          "text": [
            "5\n"
          ]
        }
      ],
      "source": [
        "val1 = 2\n",
        "val2 = 3\n",
        "\n",
        "# using the addition operator\n",
        "res = val1 + val2\n",
        "print(res)\n"
      ]
    },
    {
      "cell_type": "markdown",
      "source": [
        "Subtraction"
      ],
      "metadata": {
        "id": "VFI0ZS4_Q1D5"
      }
    },
    {
      "cell_type": "code",
      "source": [
        "val1 = 2\n",
        "val2 = 3\n",
        "\n",
        "# using the subtraction operator\n",
        "res = val1 - val2\n",
        "print(res)\n"
      ],
      "metadata": {
        "id": "uhXWXLOjFh7z",
        "colab": {
          "base_uri": "https://localhost:8080/"
        },
        "outputId": "06b1bde5-1b2e-4691-e7c2-f1b0c399bf25"
      },
      "execution_count": 9,
      "outputs": [
        {
          "output_type": "stream",
          "name": "stdout",
          "text": [
            "-1\n"
          ]
        }
      ]
    },
    {
      "cell_type": "markdown",
      "source": [
        "Multiplication"
      ],
      "metadata": {
        "id": "xrWZA0nZFksk"
      }
    },
    {
      "cell_type": "code",
      "source": [
        "val1 = 2\n",
        "val2 = 3\n",
        "\n",
        "# using the multiplication operator\n",
        "res = val1 * val2\n",
        "print(res)\n"
      ],
      "metadata": {
        "id": "lA0UO2N-FkWo",
        "colab": {
          "base_uri": "https://localhost:8080/"
        },
        "outputId": "331db324-9a69-4599-afb6-628a8c61b9ae"
      },
      "execution_count": 10,
      "outputs": [
        {
          "output_type": "stream",
          "name": "stdout",
          "text": [
            "6\n"
          ]
        }
      ]
    },
    {
      "cell_type": "markdown",
      "source": [
        "Division"
      ],
      "metadata": {
        "id": "nR8Mav7qFoul"
      }
    },
    {
      "cell_type": "code",
      "source": [
        "val1 = 3\n",
        "val2 = 2\n",
        "\n",
        "# using the division operator\n",
        "res = val1 / val2\n",
        "print(res)\n",
        "\n"
      ],
      "metadata": {
        "id": "hLdyNoYuFp8t",
        "colab": {
          "base_uri": "https://localhost:8080/"
        },
        "outputId": "3dbf62de-6e02-40d5-f9eb-abcb16448dd3"
      },
      "execution_count": 11,
      "outputs": [
        {
          "output_type": "stream",
          "name": "stdout",
          "text": [
            "1.5\n"
          ]
        }
      ]
    },
    {
      "cell_type": "markdown",
      "source": [
        "Floor division"
      ],
      "metadata": {
        "id": "5gcsG9hvFw-W"
      }
    },
    {
      "cell_type": "code",
      "source": [
        "val1 = 3\n",
        "val2 = 2\n",
        "\n",
        "# using the floor division\n",
        "res = val1 // val2\n",
        "print(res)\n"
      ],
      "metadata": {
        "id": "pXAKvViDFyTB",
        "colab": {
          "base_uri": "https://localhost:8080/"
        },
        "outputId": "42c7b858-00a7-44d6-ede4-f61fdc91740b"
      },
      "execution_count": 12,
      "outputs": [
        {
          "output_type": "stream",
          "name": "stdout",
          "text": [
            "1\n"
          ]
        }
      ]
    },
    {
      "cell_type": "markdown",
      "source": [
        "Modulus"
      ],
      "metadata": {
        "id": "Zp0Q8Ah9F1pA"
      }
    },
    {
      "cell_type": "code",
      "source": [
        "val1 = 3\n",
        "val2 = 2\n",
        "\n",
        "# using the modulus operator\n",
        "res = val1 % val2\n",
        "print(res)\n"
      ],
      "metadata": {
        "id": "rW1_Jq3fF2hB",
        "colab": {
          "base_uri": "https://localhost:8080/"
        },
        "outputId": "8c38a3c8-a7ff-4f49-b663-f40145df09c1"
      },
      "execution_count": 13,
      "outputs": [
        {
          "output_type": "stream",
          "name": "stdout",
          "text": [
            "1\n"
          ]
        }
      ]
    },
    {
      "cell_type": "markdown",
      "source": [
        "Exponent"
      ],
      "metadata": {
        "id": "0AJwgG3TF5BF"
      }
    },
    {
      "cell_type": "code",
      "source": [
        "val1 = 2\n",
        "val2 = 3\n",
        "\n",
        "# using the exponentiation operator\n",
        "res = val1 ** val2\n",
        "print(res)\n"
      ],
      "metadata": {
        "id": "fc-NAKePF5-C",
        "colab": {
          "base_uri": "https://localhost:8080/"
        },
        "outputId": "7520c066-a440-4e5a-9cd1-672652cdd236"
      },
      "execution_count": 14,
      "outputs": [
        {
          "output_type": "stream",
          "name": "stdout",
          "text": [
            "8\n"
          ]
        }
      ]
    },
    {
      "cell_type": "markdown",
      "source": [
        "Defining functions"
      ],
      "metadata": {
        "id": "wma5-N8ZKOR_"
      }
    },
    {
      "cell_type": "code",
      "source": [
        "def plus(a, b):\n",
        "    return a + b\n",
        "\n",
        "plus(1, 2)"
      ],
      "metadata": {
        "id": "SVGnnQwrKNOQ",
        "colab": {
          "base_uri": "https://localhost:8080/"
        },
        "outputId": "1274eb5e-80d6-464e-f367-6877086a14ab"
      },
      "execution_count": 15,
      "outputs": [
        {
          "output_type": "execute_result",
          "data": {
            "text/plain": [
              "3"
            ]
          },
          "metadata": {},
          "execution_count": 15
        }
      ]
    },
    {
      "cell_type": "markdown",
      "source": [
        "Conditionals"
      ],
      "metadata": {
        "id": "5bydWeZoKilg"
      }
    },
    {
      "cell_type": "markdown",
      "source": [
        "If-Else"
      ],
      "metadata": {
        "id": "ligtDZ5lKo8g"
      }
    },
    {
      "cell_type": "code",
      "execution_count": 16,
      "metadata": {
        "id": "QEgB4bJ2KaZp",
        "colab": {
          "base_uri": "https://localhost:8080/"
        },
        "outputId": "926ce818-4b13-4cd6-8404-75aeeb792b96"
      },
      "outputs": [
        {
          "output_type": "stream",
          "name": "stdout",
          "text": [
            "statement1 and statement2 are False\n"
          ]
        }
      ],
      "source": [
        "statement1 = False\n",
        "statement2 = False\n",
        "\n",
        "if statement1:\n",
        "    print(\"statement1 is True\")\n",
        "\n",
        "elif statement2:\n",
        "    print(\"statement2 is True\")\n",
        "\n",
        "else:\n",
        "    print(\"statement1 and statement2 are False\")"
      ]
    },
    {
      "cell_type": "markdown",
      "source": [
        "For loop"
      ],
      "metadata": {
        "id": "2YvoDs6TKq2l"
      }
    },
    {
      "cell_type": "code",
      "execution_count": 17,
      "metadata": {
        "id": "wAza9LwEKaZs",
        "colab": {
          "base_uri": "https://localhost:8080/"
        },
        "outputId": "ee7a5aeb-7bbc-4015-96e8-1ad77cbb81c5"
      },
      "outputs": [
        {
          "output_type": "stream",
          "name": "stdout",
          "text": [
            "1\n",
            "2\n",
            "3\n"
          ]
        }
      ],
      "source": [
        "for x in [1,2,3]:\n",
        "    print(x)"
      ]
    },
    {
      "cell_type": "code",
      "execution_count": 18,
      "metadata": {
        "id": "aFSCOXOLKaZt",
        "colab": {
          "base_uri": "https://localhost:8080/"
        },
        "outputId": "8d6c85eb-8ba3-4ee2-dcf7-05974ea35090"
      },
      "outputs": [
        {
          "output_type": "stream",
          "name": "stdout",
          "text": [
            "0\n",
            "1\n",
            "2\n",
            "3\n"
          ]
        }
      ],
      "source": [
        "for x in range(4): # by default range start at 0\n",
        "    print(x)"
      ]
    },
    {
      "cell_type": "code",
      "execution_count": 19,
      "metadata": {
        "id": "9eQGmfF8KaZt",
        "colab": {
          "base_uri": "https://localhost:8080/"
        },
        "outputId": "8c42bb67-2bb5-4a07-ef4e-4c99d68e5ebd"
      },
      "outputs": [
        {
          "output_type": "stream",
          "name": "stdout",
          "text": [
            "scientific\n",
            "computing\n",
            "with\n",
            "python\n"
          ]
        }
      ],
      "source": [
        "for word in [\"scientific\", \"computing\", \"with\", \"python\"]:\n",
        "    print(word)"
      ]
    },
    {
      "cell_type": "markdown",
      "source": [
        "Classes"
      ],
      "metadata": {
        "id": "xB34WegJLEEn"
      }
    },
    {
      "cell_type": "markdown",
      "metadata": {
        "id": "qIvWJQipKaZy"
      },
      "source": [
        "Classes are the key features of object-oriented programming. A class is a structure for representing an object and the operations that can be performed on the object.\n",
        "\n",
        "In Python a class can contain *attributes* (variables) and *methods* (functions).\n",
        "\n",
        "A class is defined almost like a function, but using the `class` keyword, and the class definition usually contains a number of class method definitions (a function in a class).\n",
        "\n",
        "* Each class method should have an argument `self` as its first argument. This object is a self-reference.\n",
        "\n",
        "* Some class method names have special meaning, for example:\n",
        "\n",
        "    * `__init__`: The name of the method that is invoked when the object is first created.\n",
        "    * `__str__` : A method that is invoked when a simple string representation of the class is needed, as for example when printed.\n",
        "    * There are many more, see http://docs.python.org/2/reference/datamodel.html#special-method-names"
      ]
    },
    {
      "cell_type": "code",
      "execution_count": null,
      "metadata": {
        "id": "tria6YpBKaZy"
      },
      "outputs": [],
      "source": [
        "class Point:\n",
        "    \"\"\"\n",
        "    Simple class for representing a point in a Cartesian coordinate system.\n",
        "    \"\"\"\n",
        "\n",
        "    def __init__(self, x, y):\n",
        "        \"\"\"\n",
        "        Create a new Point at x, y.\n",
        "        \"\"\"\n",
        "        self.x = x\n",
        "        self.y = y\n",
        "\n",
        "    def translate(self, dx, dy):\n",
        "        \"\"\"\n",
        "        Translate the point by dx and dy in the x and y direction.\n",
        "        \"\"\"\n",
        "        self.x += dx\n",
        "        self.y += dy\n",
        "\n",
        "    def __str__(self):\n",
        "        return(\"Point at [%f, %f]\" % (self.x, self.y))"
      ]
    },
    {
      "cell_type": "code",
      "execution_count": null,
      "metadata": {
        "id": "KRhWRSowKaZy"
      },
      "outputs": [],
      "source": [
        "p1 = Point(0, 0) # this will invoke the __init__ method in the Point class\n",
        "\n",
        "print(p1)         # this will invoke the __str__ method"
      ]
    },
    {
      "cell_type": "markdown",
      "source": [
        "Derivatives - using sympy"
      ],
      "metadata": {
        "id": "amP01sdHGFEK"
      }
    },
    {
      "cell_type": "code",
      "source": [
        "pip --version"
      ],
      "metadata": {
        "colab": {
          "base_uri": "https://localhost:8080/"
        },
        "id": "fDmTJL61hgyf",
        "outputId": "b355d047-4ab2-467b-b93a-2f7e38811d07"
      },
      "execution_count": 20,
      "outputs": [
        {
          "output_type": "stream",
          "name": "stdout",
          "text": [
            "pip 24.1.2 from /usr/local/lib/python3.11/dist-packages/pip (python 3.11)\n"
          ]
        }
      ]
    },
    {
      "cell_type": "code",
      "source": [
        "pip install sympy"
      ],
      "metadata": {
        "id": "w9CifKHbGOt0",
        "colab": {
          "base_uri": "https://localhost:8080/"
        },
        "outputId": "97dafefe-0a4c-4966-9e12-2433ab8c9cfc"
      },
      "execution_count": 21,
      "outputs": [
        {
          "output_type": "stream",
          "name": "stdout",
          "text": [
            "Requirement already satisfied: sympy in /usr/local/lib/python3.11/dist-packages (1.13.1)\n",
            "Requirement already satisfied: mpmath<1.4,>=1.1.0 in /usr/local/lib/python3.11/dist-packages (from sympy) (1.3.0)\n"
          ]
        }
      ]
    },
    {
      "cell_type": "code",
      "source": [
        "import sympy\n",
        "from sympy import *\n",
        "\n",
        "x, y = symbols('x y')\n",
        "expr = x**2 + 2 * y + y**3\n",
        "print(\"Expression : {}\".format(expr))\n",
        "\n",
        "\n"
      ],
      "metadata": {
        "id": "er2XlJFJGG7U",
        "colab": {
          "base_uri": "https://localhost:8080/"
        },
        "outputId": "8a443cc4-e311-4086-b51a-6194a65877e7"
      },
      "execution_count": 22,
      "outputs": [
        {
          "output_type": "stream",
          "name": "stdout",
          "text": [
            "Expression : x**2 + y**3 + 2*y\n"
          ]
        }
      ]
    },
    {
      "cell_type": "code",
      "source": [
        "# Use sympy.Derivative() method\n",
        "expr_diff = Derivative(expr, x)\n",
        "\n",
        "print(\"Derivative of expression with respect to x : {}\".format(expr_diff))\n",
        "print(\"Value of the derivative : {}\".format(expr_diff.doit()))"
      ],
      "metadata": {
        "id": "ztKD9WqzVwfi",
        "colab": {
          "base_uri": "https://localhost:8080/"
        },
        "outputId": "d5487f92-f68a-438d-f856-3c386f3b341d"
      },
      "execution_count": 23,
      "outputs": [
        {
          "output_type": "stream",
          "name": "stdout",
          "text": [
            "Derivative of expression with respect to x : Derivative(x**2 + y**3 + 2*y, x)\n",
            "Value of the derivative : 2*x\n"
          ]
        }
      ]
    },
    {
      "cell_type": "markdown",
      "source": [
        "Derivatives - using numpy"
      ],
      "metadata": {
        "id": "JWg3gf7AG8DD"
      }
    },
    {
      "cell_type": "code",
      "source": [
        "import numpy\n",
        "\n",
        "x = numpy.linspace(0,10,10)\n",
        "dx = x[1]-x[0]\n",
        "y = x**2 + 1\n",
        "dydx = numpy.gradient(y, dx)\n",
        "print (dydx)"
      ],
      "metadata": {
        "id": "grg_G6zSGamY",
        "colab": {
          "base_uri": "https://localhost:8080/"
        },
        "outputId": "0a14f6c2-e795-4722-d372-997fafc23a69"
      },
      "execution_count": 24,
      "outputs": [
        {
          "output_type": "stream",
          "name": "stdout",
          "text": [
            "[ 1.11111111  2.22222222  4.44444444  6.66666667  8.88888889 11.11111111\n",
            " 13.33333333 15.55555556 17.77777778 18.88888889]\n"
          ]
        }
      ]
    },
    {
      "cell_type": "markdown",
      "source": [
        "Derviatives using autograd (popular with ML community)"
      ],
      "metadata": {
        "id": "9lu4V-dcHAwy"
      }
    },
    {
      "cell_type": "code",
      "source": [
        "pip install autograd"
      ],
      "metadata": {
        "id": "-fkZVT8YHEuB",
        "colab": {
          "base_uri": "https://localhost:8080/"
        },
        "outputId": "a43d4878-2e24-431f-ccf5-efdcc9ea2271"
      },
      "execution_count": 25,
      "outputs": [
        {
          "output_type": "stream",
          "name": "stdout",
          "text": [
            "Requirement already satisfied: autograd in /usr/local/lib/python3.11/dist-packages (1.7.0)\n",
            "Requirement already satisfied: numpy in /usr/local/lib/python3.11/dist-packages (from autograd) (2.0.2)\n"
          ]
        }
      ]
    },
    {
      "cell_type": "code",
      "source": [
        "import autograd.numpy as np\n",
        "from autograd import grad\n",
        "\n",
        "def fct(x):\n",
        "    y = x**2+1,\n",
        "    return y\n",
        "\n",
        "\n"
      ],
      "metadata": {
        "id": "oEAAJ-d7HGvh"
      },
      "execution_count": 26,
      "outputs": []
    },
    {
      "cell_type": "code",
      "source": [
        "grad_fct = grad(fct)\n",
        "print(grad_fct(1.0))"
      ],
      "metadata": {
        "id": "CabcxA7QXEOx",
        "colab": {
          "base_uri": "https://localhost:8080/"
        },
        "outputId": "fdc1ef97-817f-4dda-e6be-3e986080a196"
      },
      "execution_count": 27,
      "outputs": [
        {
          "output_type": "stream",
          "name": "stdout",
          "text": [
            "0.0\n"
          ]
        },
        {
          "output_type": "stream",
          "name": "stderr",
          "text": [
            "/usr/local/lib/python3.11/dist-packages/autograd/tracer.py:14: UserWarning: Output seems independent of input.\n",
            "  warnings.warn(\"Output seems independent of input.\")\n"
          ]
        }
      ]
    },
    {
      "cell_type": "code",
      "source": [
        "from scipy.optimize import minimize\n",
        "\n",
        "\n",
        "def f(x):\n",
        "    return x**2 + np.exp(-7 * x**2)\n",
        "\n",
        "\n",
        "guess = 0.5\n",
        "sol = minimize(f, guess)\n",
        "sol"
      ],
      "metadata": {
        "id": "KDSKqxw3YZnY",
        "colab": {
          "base_uri": "https://localhost:8080/"
        },
        "outputId": "9f1f18c2-879d-451b-c23b-12164f215904"
      },
      "execution_count": 28,
      "outputs": [
        {
          "output_type": "execute_result",
          "data": {
            "text/plain": [
              "  message: Optimization terminated successfully.\n",
              "  success: True\n",
              "   status: 0\n",
              "      fun: 0.4208443070079023\n",
              "        x: [ 5.272e-01]\n",
              "      nit: 3\n",
              "      jac: [-2.235e-08]\n",
              " hess_inv: [[ 1.284e-01]]\n",
              "     nfev: 10\n",
              "     njev: 5"
            ]
          },
          "metadata": {},
          "execution_count": 28
        }
      ]
    },
    {
      "cell_type": "code",
      "source": [
        "from scipy.optimize import minimize\n",
        "\n",
        "\n",
        "def f(x):\n",
        "    return x**2 + np.exp(-7 * x**2)\n",
        "\n",
        "\n",
        "guess = 0.5\n",
        "sol = minimize(f, guess, tol = 0.0000001)\n",
        "sol"
      ],
      "metadata": {
        "id": "z7c6MbQfCEIt",
        "colab": {
          "base_uri": "https://localhost:8080/"
        },
        "outputId": "7122aeda-1090-4204-87cb-fc670d63bfc6"
      },
      "execution_count": 29,
      "outputs": [
        {
          "output_type": "execute_result",
          "data": {
            "text/plain": [
              "  message: Optimization terminated successfully.\n",
              "  success: True\n",
              "   status: 0\n",
              "      fun: 0.4208443070079023\n",
              "        x: [ 5.272e-01]\n",
              "      nit: 3\n",
              "      jac: [-2.235e-08]\n",
              " hess_inv: [[ 1.284e-01]]\n",
              "     nfev: 10\n",
              "     njev: 5"
            ]
          },
          "metadata": {},
          "execution_count": 29
        }
      ]
    },
    {
      "cell_type": "markdown",
      "source": [
        "lets try higher order derivatives using numpy.gradient recursively ..."
      ],
      "metadata": {
        "id": "ATcluE2nI1Ha"
      }
    },
    {
      "cell_type": "markdown",
      "source": [
        "1st derivative ...dydx...."
      ],
      "metadata": {
        "id": "JqIC1jE5I8d7"
      }
    },
    {
      "cell_type": "code",
      "source": [
        "import numpy\n",
        "\n",
        "x = numpy.linspace(0,10,10)\n",
        "dx = x[1]-x[0]\n",
        "y = x**2 + 1\n",
        "dydx = numpy.gradient(y, dx)\n",
        "print (dydx)"
      ],
      "metadata": {
        "id": "AOjoKQYEI6n_",
        "colab": {
          "base_uri": "https://localhost:8080/"
        },
        "outputId": "617e4ee8-a1a6-4574-c075-1c14b34a951b"
      },
      "execution_count": 30,
      "outputs": [
        {
          "output_type": "stream",
          "name": "stdout",
          "text": [
            "[ 1.11111111  2.22222222  4.44444444  6.66666667  8.88888889 11.11111111\n",
            " 13.33333333 15.55555556 17.77777778 18.88888889]\n"
          ]
        }
      ]
    },
    {
      "cell_type": "code",
      "source": [
        "import numpy\n",
        "\n",
        "x = numpy.linspace(0,10,10)\n",
        "dx = x[1]-x[0]\n",
        "y = dydx\n",
        "dydx2 = numpy.gradient(y, dx)\n",
        "print (dydx2)"
      ],
      "metadata": {
        "id": "1_AGmsCWJkVT",
        "colab": {
          "base_uri": "https://localhost:8080/"
        },
        "outputId": "bb325ef9-1bb6-4db4-e1d5-11c1edb5e2c4"
      },
      "execution_count": 31,
      "outputs": [
        {
          "output_type": "stream",
          "name": "stdout",
          "text": [
            "[1.  1.5 2.  2.  2.  2.  2.  2.  1.5 1. ]\n"
          ]
        }
      ]
    },
    {
      "cell_type": "code",
      "source": [
        "import numpy\n",
        "\n",
        "x = numpy.linspace(0,10,10)\n",
        "dx = x[1]-x[0]\n",
        "dydx3 = dydx2\n",
        "dydx3 = numpy.gradient(y, dx)\n",
        "print (dydx3)"
      ],
      "metadata": {
        "id": "YFOfraKVJyEL",
        "colab": {
          "base_uri": "https://localhost:8080/"
        },
        "outputId": "a48cb004-9e3e-4315-adc2-90e4102c6648"
      },
      "execution_count": 32,
      "outputs": [
        {
          "output_type": "stream",
          "name": "stdout",
          "text": [
            "[1.  1.5 2.  2.  2.  2.  2.  2.  1.5 1. ]\n"
          ]
        }
      ]
    },
    {
      "cell_type": "markdown",
      "source": [
        "Lists"
      ],
      "metadata": {
        "id": "VXsFRytqQKT9"
      }
    },
    {
      "cell_type": "code",
      "metadata": {
        "id": "OrnV1ySAPtHp"
      },
      "source": [
        "my_list = []"
      ],
      "execution_count": 33,
      "outputs": []
    },
    {
      "cell_type": "code",
      "metadata": {
        "id": "Uq5YTJ1JXpOX"
      },
      "source": [
        "my_list = [1, 2, 3]"
      ],
      "execution_count": 34,
      "outputs": []
    },
    {
      "cell_type": "code",
      "metadata": {
        "id": "QFTNqiYiXxAh",
        "colab": {
          "base_uri": "https://localhost:8080/"
        },
        "outputId": "d5292a05-1bc3-48d9-ee1e-d33a2099f870"
      },
      "source": [
        "my_list.append(4)\n",
        "my_list"
      ],
      "execution_count": 35,
      "outputs": [
        {
          "output_type": "execute_result",
          "data": {
            "text/plain": [
              "[1, 2, 3, 4]"
            ]
          },
          "metadata": {},
          "execution_count": 35
        }
      ]
    },
    {
      "cell_type": "code",
      "metadata": {
        "id": "pyFxyZPVYpG_",
        "colab": {
          "base_uri": "https://localhost:8080/"
        },
        "outputId": "0d1c9713-4299-420c-9e6a-8bbadcad2148"
      },
      "source": [
        "my_list[2]"
      ],
      "execution_count": 36,
      "outputs": [
        {
          "output_type": "execute_result",
          "data": {
            "text/plain": [
              "3"
            ]
          },
          "metadata": {},
          "execution_count": 36
        }
      ]
    },
    {
      "cell_type": "code",
      "metadata": {
        "id": "Ichf9p0gd7tJ",
        "colab": {
          "base_uri": "https://localhost:8080/"
        },
        "outputId": "6a9709be-7448-4dfd-a039-7dfe1d906f98"
      },
      "source": [
        "my_list[1:3]"
      ],
      "execution_count": 37,
      "outputs": [
        {
          "output_type": "execute_result",
          "data": {
            "text/plain": [
              "[2, 3]"
            ]
          },
          "metadata": {},
          "execution_count": 37
        }
      ]
    },
    {
      "cell_type": "markdown",
      "source": [
        "Strings"
      ],
      "metadata": {
        "id": "1SqJT2RZQbef"
      }
    },
    {
      "cell_type": "code",
      "metadata": {
        "id": "cCma6Oj_7T8n"
      },
      "source": [
        "string1 = \"some text\"\n",
        "string2 = 'some other text'"
      ],
      "execution_count": 38,
      "outputs": []
    },
    {
      "cell_type": "code",
      "metadata": {
        "id": "mxqNMKCY79_W",
        "colab": {
          "base_uri": "https://localhost:8080/",
          "height": 35
        },
        "outputId": "c17fe813-345a-457c-e86f-fe2cb0844810"
      },
      "source": [
        "string1 + \" \" + string2"
      ],
      "execution_count": 39,
      "outputs": [
        {
          "output_type": "execute_result",
          "data": {
            "text/plain": [
              "'some text some other text'"
            ],
            "application/vnd.google.colaboratory.intrinsic+json": {
              "type": "string"
            }
          },
          "metadata": {},
          "execution_count": 39
        }
      ]
    },
    {
      "cell_type": "markdown",
      "source": [
        "Conditionals"
      ],
      "metadata": {
        "id": "5epzqv9-Qho9"
      }
    },
    {
      "cell_type": "code",
      "metadata": {
        "id": "xC_DMZjofoYZ"
      },
      "source": [
        "my_variable = 5\n",
        "if my_variable < 0:\n",
        "  print(\"negative\")\n",
        "elif my_variable == 0:\n",
        "  print(\"null\")\n",
        "else: # my_variable > 0\n",
        "  print(\"positive\")"
      ],
      "execution_count": null,
      "outputs": []
    },
    {
      "cell_type": "markdown",
      "source": [
        "Loops"
      ],
      "metadata": {
        "id": "5JdcbMCmQll1"
      }
    },
    {
      "cell_type": "code",
      "metadata": {
        "id": "7-QXGqgOjsr_"
      },
      "source": [
        "i = 0\n",
        "while i < len(my_list):\n",
        "  print(my_list[i])\n",
        "  i += 1 # equivalent to i = i + 1"
      ],
      "execution_count": null,
      "outputs": []
    },
    {
      "cell_type": "code",
      "metadata": {
        "id": "2QObx5mckMcI"
      },
      "source": [
        "for i in range(len(my_list)):\n",
        "  print(my_list[i])"
      ],
      "execution_count": null,
      "outputs": []
    },
    {
      "cell_type": "markdown",
      "source": [
        "Functions"
      ],
      "metadata": {
        "id": "R8BJ5WnuQtR7"
      }
    },
    {
      "cell_type": "code",
      "metadata": {
        "id": "cImA09gOhRmx"
      },
      "source": [
        "def square(x):\n",
        "  return x ** 2\n",
        "\n",
        "def multiply(a, b):\n",
        "  return a * b\n",
        "\n",
        "# Functions can be composed.\n",
        "square(multiply(3, 2))"
      ],
      "execution_count": null,
      "outputs": []
    },
    {
      "cell_type": "markdown",
      "source": [
        "http://www.python.org - The official web page of the Python programming language.\n",
        "\n",
        "http://www.python.org/dev/peps/pep-0008 - Style guide for Python programming. Highly recommended.\n",
        "\n",
        "http://www.greenteapress.com/thinkpython/ - A free book on Python programming.\n",
        "Python Essential Reference - A good reference book on Python programming."
      ],
      "metadata": {
        "id": "3sgDsNnYLkUP"
      }
    },
    {
      "cell_type": "markdown",
      "source": [
        "Matplot lib"
      ],
      "metadata": {
        "id": "1h2DVMRh0EOc"
      }
    },
    {
      "cell_type": "code",
      "source": [
        "import pandas as pd\n",
        "\n",
        "nvda_data = pd.read_csv('https://raw.githubusercontent.com/Arunimad/CCIR_ML_Robotics/refs/heads/main/NVDA.csv')\n",
        "nvda_data.head()"
      ],
      "metadata": {
        "id": "9bci9D9r0I9u",
        "colab": {
          "base_uri": "https://localhost:8080/",
          "height": 206
        },
        "outputId": "a9549d2b-215d-414f-cbb7-85279ea985a3"
      },
      "execution_count": 40,
      "outputs": [
        {
          "output_type": "execute_result",
          "data": {
            "text/plain": [
              "         Date      Open      High       Low     Close  Adj Close     Volume\n",
              "0  1999-01-22  0.437500  0.488281  0.388021  0.410156   0.376358  271468800\n",
              "1  1999-01-25  0.442708  0.458333  0.410156  0.453125   0.415786   51048000\n",
              "2  1999-01-26  0.458333  0.467448  0.411458  0.417969   0.383527   34320000\n",
              "3  1999-01-27  0.419271  0.429688  0.395833  0.416667   0.382332   24436800\n",
              "4  1999-01-28  0.416667  0.419271  0.412760  0.415365   0.381137   22752000"
            ],
            "text/html": [
              "\n",
              "  <div id=\"df-c7117459-8e30-4c4b-9dee-ebc022b20881\" class=\"colab-df-container\">\n",
              "    <div>\n",
              "<style scoped>\n",
              "    .dataframe tbody tr th:only-of-type {\n",
              "        vertical-align: middle;\n",
              "    }\n",
              "\n",
              "    .dataframe tbody tr th {\n",
              "        vertical-align: top;\n",
              "    }\n",
              "\n",
              "    .dataframe thead th {\n",
              "        text-align: right;\n",
              "    }\n",
              "</style>\n",
              "<table border=\"1\" class=\"dataframe\">\n",
              "  <thead>\n",
              "    <tr style=\"text-align: right;\">\n",
              "      <th></th>\n",
              "      <th>Date</th>\n",
              "      <th>Open</th>\n",
              "      <th>High</th>\n",
              "      <th>Low</th>\n",
              "      <th>Close</th>\n",
              "      <th>Adj Close</th>\n",
              "      <th>Volume</th>\n",
              "    </tr>\n",
              "  </thead>\n",
              "  <tbody>\n",
              "    <tr>\n",
              "      <th>0</th>\n",
              "      <td>1999-01-22</td>\n",
              "      <td>0.437500</td>\n",
              "      <td>0.488281</td>\n",
              "      <td>0.388021</td>\n",
              "      <td>0.410156</td>\n",
              "      <td>0.376358</td>\n",
              "      <td>271468800</td>\n",
              "    </tr>\n",
              "    <tr>\n",
              "      <th>1</th>\n",
              "      <td>1999-01-25</td>\n",
              "      <td>0.442708</td>\n",
              "      <td>0.458333</td>\n",
              "      <td>0.410156</td>\n",
              "      <td>0.453125</td>\n",
              "      <td>0.415786</td>\n",
              "      <td>51048000</td>\n",
              "    </tr>\n",
              "    <tr>\n",
              "      <th>2</th>\n",
              "      <td>1999-01-26</td>\n",
              "      <td>0.458333</td>\n",
              "      <td>0.467448</td>\n",
              "      <td>0.411458</td>\n",
              "      <td>0.417969</td>\n",
              "      <td>0.383527</td>\n",
              "      <td>34320000</td>\n",
              "    </tr>\n",
              "    <tr>\n",
              "      <th>3</th>\n",
              "      <td>1999-01-27</td>\n",
              "      <td>0.419271</td>\n",
              "      <td>0.429688</td>\n",
              "      <td>0.395833</td>\n",
              "      <td>0.416667</td>\n",
              "      <td>0.382332</td>\n",
              "      <td>24436800</td>\n",
              "    </tr>\n",
              "    <tr>\n",
              "      <th>4</th>\n",
              "      <td>1999-01-28</td>\n",
              "      <td>0.416667</td>\n",
              "      <td>0.419271</td>\n",
              "      <td>0.412760</td>\n",
              "      <td>0.415365</td>\n",
              "      <td>0.381137</td>\n",
              "      <td>22752000</td>\n",
              "    </tr>\n",
              "  </tbody>\n",
              "</table>\n",
              "</div>\n",
              "    <div class=\"colab-df-buttons\">\n",
              "\n",
              "  <div class=\"colab-df-container\">\n",
              "    <button class=\"colab-df-convert\" onclick=\"convertToInteractive('df-c7117459-8e30-4c4b-9dee-ebc022b20881')\"\n",
              "            title=\"Convert this dataframe to an interactive table.\"\n",
              "            style=\"display:none;\">\n",
              "\n",
              "  <svg xmlns=\"http://www.w3.org/2000/svg\" height=\"24px\" viewBox=\"0 -960 960 960\">\n",
              "    <path d=\"M120-120v-720h720v720H120Zm60-500h600v-160H180v160Zm220 220h160v-160H400v160Zm0 220h160v-160H400v160ZM180-400h160v-160H180v160Zm440 0h160v-160H620v160ZM180-180h160v-160H180v160Zm440 0h160v-160H620v160Z\"/>\n",
              "  </svg>\n",
              "    </button>\n",
              "\n",
              "  <style>\n",
              "    .colab-df-container {\n",
              "      display:flex;\n",
              "      gap: 12px;\n",
              "    }\n",
              "\n",
              "    .colab-df-convert {\n",
              "      background-color: #E8F0FE;\n",
              "      border: none;\n",
              "      border-radius: 50%;\n",
              "      cursor: pointer;\n",
              "      display: none;\n",
              "      fill: #1967D2;\n",
              "      height: 32px;\n",
              "      padding: 0 0 0 0;\n",
              "      width: 32px;\n",
              "    }\n",
              "\n",
              "    .colab-df-convert:hover {\n",
              "      background-color: #E2EBFA;\n",
              "      box-shadow: 0px 1px 2px rgba(60, 64, 67, 0.3), 0px 1px 3px 1px rgba(60, 64, 67, 0.15);\n",
              "      fill: #174EA6;\n",
              "    }\n",
              "\n",
              "    .colab-df-buttons div {\n",
              "      margin-bottom: 4px;\n",
              "    }\n",
              "\n",
              "    [theme=dark] .colab-df-convert {\n",
              "      background-color: #3B4455;\n",
              "      fill: #D2E3FC;\n",
              "    }\n",
              "\n",
              "    [theme=dark] .colab-df-convert:hover {\n",
              "      background-color: #434B5C;\n",
              "      box-shadow: 0px 1px 3px 1px rgba(0, 0, 0, 0.15);\n",
              "      filter: drop-shadow(0px 1px 2px rgba(0, 0, 0, 0.3));\n",
              "      fill: #FFFFFF;\n",
              "    }\n",
              "  </style>\n",
              "\n",
              "    <script>\n",
              "      const buttonEl =\n",
              "        document.querySelector('#df-c7117459-8e30-4c4b-9dee-ebc022b20881 button.colab-df-convert');\n",
              "      buttonEl.style.display =\n",
              "        google.colab.kernel.accessAllowed ? 'block' : 'none';\n",
              "\n",
              "      async function convertToInteractive(key) {\n",
              "        const element = document.querySelector('#df-c7117459-8e30-4c4b-9dee-ebc022b20881');\n",
              "        const dataTable =\n",
              "          await google.colab.kernel.invokeFunction('convertToInteractive',\n",
              "                                                    [key], {});\n",
              "        if (!dataTable) return;\n",
              "\n",
              "        const docLinkHtml = 'Like what you see? Visit the ' +\n",
              "          '<a target=\"_blank\" href=https://colab.research.google.com/notebooks/data_table.ipynb>data table notebook</a>'\n",
              "          + ' to learn more about interactive tables.';\n",
              "        element.innerHTML = '';\n",
              "        dataTable['output_type'] = 'display_data';\n",
              "        await google.colab.output.renderOutput(dataTable, element);\n",
              "        const docLink = document.createElement('div');\n",
              "        docLink.innerHTML = docLinkHtml;\n",
              "        element.appendChild(docLink);\n",
              "      }\n",
              "    </script>\n",
              "  </div>\n",
              "\n",
              "\n",
              "    <div id=\"df-64818aeb-9de7-4394-8122-e42160668776\">\n",
              "      <button class=\"colab-df-quickchart\" onclick=\"quickchart('df-64818aeb-9de7-4394-8122-e42160668776')\"\n",
              "                title=\"Suggest charts\"\n",
              "                style=\"display:none;\">\n",
              "\n",
              "<svg xmlns=\"http://www.w3.org/2000/svg\" height=\"24px\"viewBox=\"0 0 24 24\"\n",
              "     width=\"24px\">\n",
              "    <g>\n",
              "        <path d=\"M19 3H5c-1.1 0-2 .9-2 2v14c0 1.1.9 2 2 2h14c1.1 0 2-.9 2-2V5c0-1.1-.9-2-2-2zM9 17H7v-7h2v7zm4 0h-2V7h2v10zm4 0h-2v-4h2v4z\"/>\n",
              "    </g>\n",
              "</svg>\n",
              "      </button>\n",
              "\n",
              "<style>\n",
              "  .colab-df-quickchart {\n",
              "      --bg-color: #E8F0FE;\n",
              "      --fill-color: #1967D2;\n",
              "      --hover-bg-color: #E2EBFA;\n",
              "      --hover-fill-color: #174EA6;\n",
              "      --disabled-fill-color: #AAA;\n",
              "      --disabled-bg-color: #DDD;\n",
              "  }\n",
              "\n",
              "  [theme=dark] .colab-df-quickchart {\n",
              "      --bg-color: #3B4455;\n",
              "      --fill-color: #D2E3FC;\n",
              "      --hover-bg-color: #434B5C;\n",
              "      --hover-fill-color: #FFFFFF;\n",
              "      --disabled-bg-color: #3B4455;\n",
              "      --disabled-fill-color: #666;\n",
              "  }\n",
              "\n",
              "  .colab-df-quickchart {\n",
              "    background-color: var(--bg-color);\n",
              "    border: none;\n",
              "    border-radius: 50%;\n",
              "    cursor: pointer;\n",
              "    display: none;\n",
              "    fill: var(--fill-color);\n",
              "    height: 32px;\n",
              "    padding: 0;\n",
              "    width: 32px;\n",
              "  }\n",
              "\n",
              "  .colab-df-quickchart:hover {\n",
              "    background-color: var(--hover-bg-color);\n",
              "    box-shadow: 0 1px 2px rgba(60, 64, 67, 0.3), 0 1px 3px 1px rgba(60, 64, 67, 0.15);\n",
              "    fill: var(--button-hover-fill-color);\n",
              "  }\n",
              "\n",
              "  .colab-df-quickchart-complete:disabled,\n",
              "  .colab-df-quickchart-complete:disabled:hover {\n",
              "    background-color: var(--disabled-bg-color);\n",
              "    fill: var(--disabled-fill-color);\n",
              "    box-shadow: none;\n",
              "  }\n",
              "\n",
              "  .colab-df-spinner {\n",
              "    border: 2px solid var(--fill-color);\n",
              "    border-color: transparent;\n",
              "    border-bottom-color: var(--fill-color);\n",
              "    animation:\n",
              "      spin 1s steps(1) infinite;\n",
              "  }\n",
              "\n",
              "  @keyframes spin {\n",
              "    0% {\n",
              "      border-color: transparent;\n",
              "      border-bottom-color: var(--fill-color);\n",
              "      border-left-color: var(--fill-color);\n",
              "    }\n",
              "    20% {\n",
              "      border-color: transparent;\n",
              "      border-left-color: var(--fill-color);\n",
              "      border-top-color: var(--fill-color);\n",
              "    }\n",
              "    30% {\n",
              "      border-color: transparent;\n",
              "      border-left-color: var(--fill-color);\n",
              "      border-top-color: var(--fill-color);\n",
              "      border-right-color: var(--fill-color);\n",
              "    }\n",
              "    40% {\n",
              "      border-color: transparent;\n",
              "      border-right-color: var(--fill-color);\n",
              "      border-top-color: var(--fill-color);\n",
              "    }\n",
              "    60% {\n",
              "      border-color: transparent;\n",
              "      border-right-color: var(--fill-color);\n",
              "    }\n",
              "    80% {\n",
              "      border-color: transparent;\n",
              "      border-right-color: var(--fill-color);\n",
              "      border-bottom-color: var(--fill-color);\n",
              "    }\n",
              "    90% {\n",
              "      border-color: transparent;\n",
              "      border-bottom-color: var(--fill-color);\n",
              "    }\n",
              "  }\n",
              "</style>\n",
              "\n",
              "      <script>\n",
              "        async function quickchart(key) {\n",
              "          const quickchartButtonEl =\n",
              "            document.querySelector('#' + key + ' button');\n",
              "          quickchartButtonEl.disabled = true;  // To prevent multiple clicks.\n",
              "          quickchartButtonEl.classList.add('colab-df-spinner');\n",
              "          try {\n",
              "            const charts = await google.colab.kernel.invokeFunction(\n",
              "                'suggestCharts', [key], {});\n",
              "          } catch (error) {\n",
              "            console.error('Error during call to suggestCharts:', error);\n",
              "          }\n",
              "          quickchartButtonEl.classList.remove('colab-df-spinner');\n",
              "          quickchartButtonEl.classList.add('colab-df-quickchart-complete');\n",
              "        }\n",
              "        (() => {\n",
              "          let quickchartButtonEl =\n",
              "            document.querySelector('#df-64818aeb-9de7-4394-8122-e42160668776 button');\n",
              "          quickchartButtonEl.style.display =\n",
              "            google.colab.kernel.accessAllowed ? 'block' : 'none';\n",
              "        })();\n",
              "      </script>\n",
              "    </div>\n",
              "\n",
              "    </div>\n",
              "  </div>\n"
            ],
            "application/vnd.google.colaboratory.intrinsic+json": {
              "type": "dataframe",
              "variable_name": "nvda_data",
              "summary": "{\n  \"name\": \"nvda_data\",\n  \"rows\": 6122,\n  \"fields\": [\n    {\n      \"column\": \"Date\",\n      \"properties\": {\n        \"dtype\": \"object\",\n        \"num_unique_values\": 6122,\n        \"samples\": [\n          \"2007-05-23\",\n          \"2013-09-26\",\n          \"2006-03-24\"\n        ],\n        \"semantic_type\": \"\",\n        \"description\": \"\"\n      }\n    },\n    {\n      \"column\": \"Open\",\n      \"properties\": {\n        \"dtype\": \"number\",\n        \"std\": 61.97919098523861,\n        \"min\": 0.348958,\n        \"max\": 335.170013,\n        \"num_unique_values\": 4569,\n        \"samples\": [\n          5.105,\n          0.432292,\n          2.804688\n        ],\n        \"semantic_type\": \"\",\n        \"description\": \"\"\n      }\n    },\n    {\n      \"column\": \"High\",\n      \"properties\": {\n        \"dtype\": \"number\",\n        \"std\": 63.229128827839894,\n        \"min\": 0.355469,\n        \"max\": 346.470001,\n        \"num_unique_values\": 4542,\n        \"samples\": [\n          5.888333,\n          3.001667,\n          4.3725\n        ],\n        \"semantic_type\": \"\",\n        \"description\": \"\"\n      }\n    },\n    {\n      \"column\": \"Low\",\n      \"properties\": {\n        \"dtype\": \"number\",\n        \"std\": 60.68109831088956,\n        \"min\": 0.333333,\n        \"max\": 320.359985,\n        \"num_unique_values\": 4532,\n        \"samples\": [\n          38.75,\n          272.320007,\n          1.244792\n        ],\n        \"semantic_type\": \"\",\n        \"description\": \"\"\n      }\n    },\n    {\n      \"column\": \"Close\",\n      \"properties\": {\n        \"dtype\": \"number\",\n        \"std\": 62.022923007462516,\n        \"min\": 0.341146,\n        \"max\": 333.76001,\n        \"num_unique_values\": 4683,\n        \"samples\": [\n          3.960417,\n          37.93,\n          158.360001\n        ],\n        \"semantic_type\": \"\",\n        \"description\": \"\"\n      }\n    },\n    {\n      \"column\": \"Adj Close\",\n      \"properties\": {\n        \"dtype\": \"number\",\n        \"std\": 62.02853281099798,\n        \"min\": 0.313034,\n        \"max\": 333.3508,\n        \"num_unique_values\": 5082,\n        \"samples\": [\n          4.235448,\n          2.560093,\n          1.517092\n        ],\n        \"semantic_type\": \"\",\n        \"description\": \"\"\n      }\n    },\n    {\n      \"column\": \"Volume\",\n      \"properties\": {\n        \"dtype\": \"number\",\n        \"std\": 44008086,\n        \"min\": 1968000,\n        \"max\": 923085600,\n        \"num_unique_values\": 6039,\n        \"samples\": [\n          28558400,\n          118399200,\n          169782000\n        ],\n        \"semantic_type\": \"\",\n        \"description\": \"\"\n      }\n    }\n  ]\n}"
            }
          },
          "metadata": {},
          "execution_count": 40
        }
      ]
    },
    {
      "cell_type": "code",
      "source": [
        "nvda_data.tail()"
      ],
      "metadata": {
        "id": "bwU25pX_r3zy",
        "colab": {
          "base_uri": "https://localhost:8080/",
          "height": 206
        },
        "outputId": "120ba751-1ddf-4ec9-e2f0-7875ee407b12"
      },
      "execution_count": 41,
      "outputs": [
        {
          "output_type": "execute_result",
          "data": {
            "text/plain": [
              "            Date        Open        High         Low       Close   Adj Close  \\\n",
              "6117  2023-05-15  285.079987  289.690002  281.519989  289.529999  289.529999   \n",
              "6118  2023-05-16  288.410004  298.700012  288.320007  292.130005  292.130005   \n",
              "6119  2023-05-17  295.839996  301.989990  294.299988  301.779999  301.779999   \n",
              "6120  2023-05-18  304.100006  318.279999  303.200012  316.779999  316.779999   \n",
              "6121  2023-05-19  315.359985  315.799988  309.160004  312.640015  312.640015   \n",
              "\n",
              "        Volume  \n",
              "6117  29392600  \n",
              "6118  44940500  \n",
              "6119  43253500  \n",
              "6120  74872500  \n",
              "6121  47312400  "
            ],
            "text/html": [
              "\n",
              "  <div id=\"df-1e674e37-7200-40f5-9a3f-c9dd1d3cc8a3\" class=\"colab-df-container\">\n",
              "    <div>\n",
              "<style scoped>\n",
              "    .dataframe tbody tr th:only-of-type {\n",
              "        vertical-align: middle;\n",
              "    }\n",
              "\n",
              "    .dataframe tbody tr th {\n",
              "        vertical-align: top;\n",
              "    }\n",
              "\n",
              "    .dataframe thead th {\n",
              "        text-align: right;\n",
              "    }\n",
              "</style>\n",
              "<table border=\"1\" class=\"dataframe\">\n",
              "  <thead>\n",
              "    <tr style=\"text-align: right;\">\n",
              "      <th></th>\n",
              "      <th>Date</th>\n",
              "      <th>Open</th>\n",
              "      <th>High</th>\n",
              "      <th>Low</th>\n",
              "      <th>Close</th>\n",
              "      <th>Adj Close</th>\n",
              "      <th>Volume</th>\n",
              "    </tr>\n",
              "  </thead>\n",
              "  <tbody>\n",
              "    <tr>\n",
              "      <th>6117</th>\n",
              "      <td>2023-05-15</td>\n",
              "      <td>285.079987</td>\n",
              "      <td>289.690002</td>\n",
              "      <td>281.519989</td>\n",
              "      <td>289.529999</td>\n",
              "      <td>289.529999</td>\n",
              "      <td>29392600</td>\n",
              "    </tr>\n",
              "    <tr>\n",
              "      <th>6118</th>\n",
              "      <td>2023-05-16</td>\n",
              "      <td>288.410004</td>\n",
              "      <td>298.700012</td>\n",
              "      <td>288.320007</td>\n",
              "      <td>292.130005</td>\n",
              "      <td>292.130005</td>\n",
              "      <td>44940500</td>\n",
              "    </tr>\n",
              "    <tr>\n",
              "      <th>6119</th>\n",
              "      <td>2023-05-17</td>\n",
              "      <td>295.839996</td>\n",
              "      <td>301.989990</td>\n",
              "      <td>294.299988</td>\n",
              "      <td>301.779999</td>\n",
              "      <td>301.779999</td>\n",
              "      <td>43253500</td>\n",
              "    </tr>\n",
              "    <tr>\n",
              "      <th>6120</th>\n",
              "      <td>2023-05-18</td>\n",
              "      <td>304.100006</td>\n",
              "      <td>318.279999</td>\n",
              "      <td>303.200012</td>\n",
              "      <td>316.779999</td>\n",
              "      <td>316.779999</td>\n",
              "      <td>74872500</td>\n",
              "    </tr>\n",
              "    <tr>\n",
              "      <th>6121</th>\n",
              "      <td>2023-05-19</td>\n",
              "      <td>315.359985</td>\n",
              "      <td>315.799988</td>\n",
              "      <td>309.160004</td>\n",
              "      <td>312.640015</td>\n",
              "      <td>312.640015</td>\n",
              "      <td>47312400</td>\n",
              "    </tr>\n",
              "  </tbody>\n",
              "</table>\n",
              "</div>\n",
              "    <div class=\"colab-df-buttons\">\n",
              "\n",
              "  <div class=\"colab-df-container\">\n",
              "    <button class=\"colab-df-convert\" onclick=\"convertToInteractive('df-1e674e37-7200-40f5-9a3f-c9dd1d3cc8a3')\"\n",
              "            title=\"Convert this dataframe to an interactive table.\"\n",
              "            style=\"display:none;\">\n",
              "\n",
              "  <svg xmlns=\"http://www.w3.org/2000/svg\" height=\"24px\" viewBox=\"0 -960 960 960\">\n",
              "    <path d=\"M120-120v-720h720v720H120Zm60-500h600v-160H180v160Zm220 220h160v-160H400v160Zm0 220h160v-160H400v160ZM180-400h160v-160H180v160Zm440 0h160v-160H620v160ZM180-180h160v-160H180v160Zm440 0h160v-160H620v160Z\"/>\n",
              "  </svg>\n",
              "    </button>\n",
              "\n",
              "  <style>\n",
              "    .colab-df-container {\n",
              "      display:flex;\n",
              "      gap: 12px;\n",
              "    }\n",
              "\n",
              "    .colab-df-convert {\n",
              "      background-color: #E8F0FE;\n",
              "      border: none;\n",
              "      border-radius: 50%;\n",
              "      cursor: pointer;\n",
              "      display: none;\n",
              "      fill: #1967D2;\n",
              "      height: 32px;\n",
              "      padding: 0 0 0 0;\n",
              "      width: 32px;\n",
              "    }\n",
              "\n",
              "    .colab-df-convert:hover {\n",
              "      background-color: #E2EBFA;\n",
              "      box-shadow: 0px 1px 2px rgba(60, 64, 67, 0.3), 0px 1px 3px 1px rgba(60, 64, 67, 0.15);\n",
              "      fill: #174EA6;\n",
              "    }\n",
              "\n",
              "    .colab-df-buttons div {\n",
              "      margin-bottom: 4px;\n",
              "    }\n",
              "\n",
              "    [theme=dark] .colab-df-convert {\n",
              "      background-color: #3B4455;\n",
              "      fill: #D2E3FC;\n",
              "    }\n",
              "\n",
              "    [theme=dark] .colab-df-convert:hover {\n",
              "      background-color: #434B5C;\n",
              "      box-shadow: 0px 1px 3px 1px rgba(0, 0, 0, 0.15);\n",
              "      filter: drop-shadow(0px 1px 2px rgba(0, 0, 0, 0.3));\n",
              "      fill: #FFFFFF;\n",
              "    }\n",
              "  </style>\n",
              "\n",
              "    <script>\n",
              "      const buttonEl =\n",
              "        document.querySelector('#df-1e674e37-7200-40f5-9a3f-c9dd1d3cc8a3 button.colab-df-convert');\n",
              "      buttonEl.style.display =\n",
              "        google.colab.kernel.accessAllowed ? 'block' : 'none';\n",
              "\n",
              "      async function convertToInteractive(key) {\n",
              "        const element = document.querySelector('#df-1e674e37-7200-40f5-9a3f-c9dd1d3cc8a3');\n",
              "        const dataTable =\n",
              "          await google.colab.kernel.invokeFunction('convertToInteractive',\n",
              "                                                    [key], {});\n",
              "        if (!dataTable) return;\n",
              "\n",
              "        const docLinkHtml = 'Like what you see? Visit the ' +\n",
              "          '<a target=\"_blank\" href=https://colab.research.google.com/notebooks/data_table.ipynb>data table notebook</a>'\n",
              "          + ' to learn more about interactive tables.';\n",
              "        element.innerHTML = '';\n",
              "        dataTable['output_type'] = 'display_data';\n",
              "        await google.colab.output.renderOutput(dataTable, element);\n",
              "        const docLink = document.createElement('div');\n",
              "        docLink.innerHTML = docLinkHtml;\n",
              "        element.appendChild(docLink);\n",
              "      }\n",
              "    </script>\n",
              "  </div>\n",
              "\n",
              "\n",
              "    <div id=\"df-c7ae6a4a-91c2-4cf4-adea-dde29bf83d46\">\n",
              "      <button class=\"colab-df-quickchart\" onclick=\"quickchart('df-c7ae6a4a-91c2-4cf4-adea-dde29bf83d46')\"\n",
              "                title=\"Suggest charts\"\n",
              "                style=\"display:none;\">\n",
              "\n",
              "<svg xmlns=\"http://www.w3.org/2000/svg\" height=\"24px\"viewBox=\"0 0 24 24\"\n",
              "     width=\"24px\">\n",
              "    <g>\n",
              "        <path d=\"M19 3H5c-1.1 0-2 .9-2 2v14c0 1.1.9 2 2 2h14c1.1 0 2-.9 2-2V5c0-1.1-.9-2-2-2zM9 17H7v-7h2v7zm4 0h-2V7h2v10zm4 0h-2v-4h2v4z\"/>\n",
              "    </g>\n",
              "</svg>\n",
              "      </button>\n",
              "\n",
              "<style>\n",
              "  .colab-df-quickchart {\n",
              "      --bg-color: #E8F0FE;\n",
              "      --fill-color: #1967D2;\n",
              "      --hover-bg-color: #E2EBFA;\n",
              "      --hover-fill-color: #174EA6;\n",
              "      --disabled-fill-color: #AAA;\n",
              "      --disabled-bg-color: #DDD;\n",
              "  }\n",
              "\n",
              "  [theme=dark] .colab-df-quickchart {\n",
              "      --bg-color: #3B4455;\n",
              "      --fill-color: #D2E3FC;\n",
              "      --hover-bg-color: #434B5C;\n",
              "      --hover-fill-color: #FFFFFF;\n",
              "      --disabled-bg-color: #3B4455;\n",
              "      --disabled-fill-color: #666;\n",
              "  }\n",
              "\n",
              "  .colab-df-quickchart {\n",
              "    background-color: var(--bg-color);\n",
              "    border: none;\n",
              "    border-radius: 50%;\n",
              "    cursor: pointer;\n",
              "    display: none;\n",
              "    fill: var(--fill-color);\n",
              "    height: 32px;\n",
              "    padding: 0;\n",
              "    width: 32px;\n",
              "  }\n",
              "\n",
              "  .colab-df-quickchart:hover {\n",
              "    background-color: var(--hover-bg-color);\n",
              "    box-shadow: 0 1px 2px rgba(60, 64, 67, 0.3), 0 1px 3px 1px rgba(60, 64, 67, 0.15);\n",
              "    fill: var(--button-hover-fill-color);\n",
              "  }\n",
              "\n",
              "  .colab-df-quickchart-complete:disabled,\n",
              "  .colab-df-quickchart-complete:disabled:hover {\n",
              "    background-color: var(--disabled-bg-color);\n",
              "    fill: var(--disabled-fill-color);\n",
              "    box-shadow: none;\n",
              "  }\n",
              "\n",
              "  .colab-df-spinner {\n",
              "    border: 2px solid var(--fill-color);\n",
              "    border-color: transparent;\n",
              "    border-bottom-color: var(--fill-color);\n",
              "    animation:\n",
              "      spin 1s steps(1) infinite;\n",
              "  }\n",
              "\n",
              "  @keyframes spin {\n",
              "    0% {\n",
              "      border-color: transparent;\n",
              "      border-bottom-color: var(--fill-color);\n",
              "      border-left-color: var(--fill-color);\n",
              "    }\n",
              "    20% {\n",
              "      border-color: transparent;\n",
              "      border-left-color: var(--fill-color);\n",
              "      border-top-color: var(--fill-color);\n",
              "    }\n",
              "    30% {\n",
              "      border-color: transparent;\n",
              "      border-left-color: var(--fill-color);\n",
              "      border-top-color: var(--fill-color);\n",
              "      border-right-color: var(--fill-color);\n",
              "    }\n",
              "    40% {\n",
              "      border-color: transparent;\n",
              "      border-right-color: var(--fill-color);\n",
              "      border-top-color: var(--fill-color);\n",
              "    }\n",
              "    60% {\n",
              "      border-color: transparent;\n",
              "      border-right-color: var(--fill-color);\n",
              "    }\n",
              "    80% {\n",
              "      border-color: transparent;\n",
              "      border-right-color: var(--fill-color);\n",
              "      border-bottom-color: var(--fill-color);\n",
              "    }\n",
              "    90% {\n",
              "      border-color: transparent;\n",
              "      border-bottom-color: var(--fill-color);\n",
              "    }\n",
              "  }\n",
              "</style>\n",
              "\n",
              "      <script>\n",
              "        async function quickchart(key) {\n",
              "          const quickchartButtonEl =\n",
              "            document.querySelector('#' + key + ' button');\n",
              "          quickchartButtonEl.disabled = true;  // To prevent multiple clicks.\n",
              "          quickchartButtonEl.classList.add('colab-df-spinner');\n",
              "          try {\n",
              "            const charts = await google.colab.kernel.invokeFunction(\n",
              "                'suggestCharts', [key], {});\n",
              "          } catch (error) {\n",
              "            console.error('Error during call to suggestCharts:', error);\n",
              "          }\n",
              "          quickchartButtonEl.classList.remove('colab-df-spinner');\n",
              "          quickchartButtonEl.classList.add('colab-df-quickchart-complete');\n",
              "        }\n",
              "        (() => {\n",
              "          let quickchartButtonEl =\n",
              "            document.querySelector('#df-c7ae6a4a-91c2-4cf4-adea-dde29bf83d46 button');\n",
              "          quickchartButtonEl.style.display =\n",
              "            google.colab.kernel.accessAllowed ? 'block' : 'none';\n",
              "        })();\n",
              "      </script>\n",
              "    </div>\n",
              "\n",
              "    </div>\n",
              "  </div>\n"
            ],
            "application/vnd.google.colaboratory.intrinsic+json": {
              "type": "dataframe",
              "repr_error": "0"
            }
          },
          "metadata": {},
          "execution_count": 41
        }
      ]
    },
    {
      "cell_type": "code",
      "source": [
        "nvda_data.describe()"
      ],
      "metadata": {
        "id": "qJFQ1M05r-BA",
        "colab": {
          "base_uri": "https://localhost:8080/",
          "height": 300
        },
        "outputId": "37164061-3439-4c22-822d-129f172542f2"
      },
      "execution_count": 42,
      "outputs": [
        {
          "output_type": "execute_result",
          "data": {
            "text/plain": [
              "              Open         High          Low        Close    Adj Close  \\\n",
              "count  6122.000000  6122.000000  6122.000000  6122.000000  6122.000000   \n",
              "mean     32.083172    32.698178    31.452291    32.105539    31.846044   \n",
              "std      61.979191    63.229129    60.681098    62.022923    62.028533   \n",
              "min       0.348958     0.355469     0.333333     0.341146     0.313034   \n",
              "25%       2.677500     2.758750     2.603333     2.677500     2.456865   \n",
              "50%       4.320000     4.412500     4.245000     4.335000     3.981222   \n",
              "75%      27.708750    27.966875    27.088750    27.643750    27.279851   \n",
              "max     335.170013   346.470001   320.359985   333.760010   333.350800   \n",
              "\n",
              "             Volume  \n",
              "count  6.122000e+03  \n",
              "mean   6.128430e+07  \n",
              "std    4.400809e+07  \n",
              "min    1.968000e+06  \n",
              "25%    3.438680e+07  \n",
              "50%    5.138220e+07  \n",
              "75%    7.457340e+07  \n",
              "max    9.230856e+08  "
            ],
            "text/html": [
              "\n",
              "  <div id=\"df-1988993f-67aa-465f-a110-25689e0cbc1d\" class=\"colab-df-container\">\n",
              "    <div>\n",
              "<style scoped>\n",
              "    .dataframe tbody tr th:only-of-type {\n",
              "        vertical-align: middle;\n",
              "    }\n",
              "\n",
              "    .dataframe tbody tr th {\n",
              "        vertical-align: top;\n",
              "    }\n",
              "\n",
              "    .dataframe thead th {\n",
              "        text-align: right;\n",
              "    }\n",
              "</style>\n",
              "<table border=\"1\" class=\"dataframe\">\n",
              "  <thead>\n",
              "    <tr style=\"text-align: right;\">\n",
              "      <th></th>\n",
              "      <th>Open</th>\n",
              "      <th>High</th>\n",
              "      <th>Low</th>\n",
              "      <th>Close</th>\n",
              "      <th>Adj Close</th>\n",
              "      <th>Volume</th>\n",
              "    </tr>\n",
              "  </thead>\n",
              "  <tbody>\n",
              "    <tr>\n",
              "      <th>count</th>\n",
              "      <td>6122.000000</td>\n",
              "      <td>6122.000000</td>\n",
              "      <td>6122.000000</td>\n",
              "      <td>6122.000000</td>\n",
              "      <td>6122.000000</td>\n",
              "      <td>6.122000e+03</td>\n",
              "    </tr>\n",
              "    <tr>\n",
              "      <th>mean</th>\n",
              "      <td>32.083172</td>\n",
              "      <td>32.698178</td>\n",
              "      <td>31.452291</td>\n",
              "      <td>32.105539</td>\n",
              "      <td>31.846044</td>\n",
              "      <td>6.128430e+07</td>\n",
              "    </tr>\n",
              "    <tr>\n",
              "      <th>std</th>\n",
              "      <td>61.979191</td>\n",
              "      <td>63.229129</td>\n",
              "      <td>60.681098</td>\n",
              "      <td>62.022923</td>\n",
              "      <td>62.028533</td>\n",
              "      <td>4.400809e+07</td>\n",
              "    </tr>\n",
              "    <tr>\n",
              "      <th>min</th>\n",
              "      <td>0.348958</td>\n",
              "      <td>0.355469</td>\n",
              "      <td>0.333333</td>\n",
              "      <td>0.341146</td>\n",
              "      <td>0.313034</td>\n",
              "      <td>1.968000e+06</td>\n",
              "    </tr>\n",
              "    <tr>\n",
              "      <th>25%</th>\n",
              "      <td>2.677500</td>\n",
              "      <td>2.758750</td>\n",
              "      <td>2.603333</td>\n",
              "      <td>2.677500</td>\n",
              "      <td>2.456865</td>\n",
              "      <td>3.438680e+07</td>\n",
              "    </tr>\n",
              "    <tr>\n",
              "      <th>50%</th>\n",
              "      <td>4.320000</td>\n",
              "      <td>4.412500</td>\n",
              "      <td>4.245000</td>\n",
              "      <td>4.335000</td>\n",
              "      <td>3.981222</td>\n",
              "      <td>5.138220e+07</td>\n",
              "    </tr>\n",
              "    <tr>\n",
              "      <th>75%</th>\n",
              "      <td>27.708750</td>\n",
              "      <td>27.966875</td>\n",
              "      <td>27.088750</td>\n",
              "      <td>27.643750</td>\n",
              "      <td>27.279851</td>\n",
              "      <td>7.457340e+07</td>\n",
              "    </tr>\n",
              "    <tr>\n",
              "      <th>max</th>\n",
              "      <td>335.170013</td>\n",
              "      <td>346.470001</td>\n",
              "      <td>320.359985</td>\n",
              "      <td>333.760010</td>\n",
              "      <td>333.350800</td>\n",
              "      <td>9.230856e+08</td>\n",
              "    </tr>\n",
              "  </tbody>\n",
              "</table>\n",
              "</div>\n",
              "    <div class=\"colab-df-buttons\">\n",
              "\n",
              "  <div class=\"colab-df-container\">\n",
              "    <button class=\"colab-df-convert\" onclick=\"convertToInteractive('df-1988993f-67aa-465f-a110-25689e0cbc1d')\"\n",
              "            title=\"Convert this dataframe to an interactive table.\"\n",
              "            style=\"display:none;\">\n",
              "\n",
              "  <svg xmlns=\"http://www.w3.org/2000/svg\" height=\"24px\" viewBox=\"0 -960 960 960\">\n",
              "    <path d=\"M120-120v-720h720v720H120Zm60-500h600v-160H180v160Zm220 220h160v-160H400v160Zm0 220h160v-160H400v160ZM180-400h160v-160H180v160Zm440 0h160v-160H620v160ZM180-180h160v-160H180v160Zm440 0h160v-160H620v160Z\"/>\n",
              "  </svg>\n",
              "    </button>\n",
              "\n",
              "  <style>\n",
              "    .colab-df-container {\n",
              "      display:flex;\n",
              "      gap: 12px;\n",
              "    }\n",
              "\n",
              "    .colab-df-convert {\n",
              "      background-color: #E8F0FE;\n",
              "      border: none;\n",
              "      border-radius: 50%;\n",
              "      cursor: pointer;\n",
              "      display: none;\n",
              "      fill: #1967D2;\n",
              "      height: 32px;\n",
              "      padding: 0 0 0 0;\n",
              "      width: 32px;\n",
              "    }\n",
              "\n",
              "    .colab-df-convert:hover {\n",
              "      background-color: #E2EBFA;\n",
              "      box-shadow: 0px 1px 2px rgba(60, 64, 67, 0.3), 0px 1px 3px 1px rgba(60, 64, 67, 0.15);\n",
              "      fill: #174EA6;\n",
              "    }\n",
              "\n",
              "    .colab-df-buttons div {\n",
              "      margin-bottom: 4px;\n",
              "    }\n",
              "\n",
              "    [theme=dark] .colab-df-convert {\n",
              "      background-color: #3B4455;\n",
              "      fill: #D2E3FC;\n",
              "    }\n",
              "\n",
              "    [theme=dark] .colab-df-convert:hover {\n",
              "      background-color: #434B5C;\n",
              "      box-shadow: 0px 1px 3px 1px rgba(0, 0, 0, 0.15);\n",
              "      filter: drop-shadow(0px 1px 2px rgba(0, 0, 0, 0.3));\n",
              "      fill: #FFFFFF;\n",
              "    }\n",
              "  </style>\n",
              "\n",
              "    <script>\n",
              "      const buttonEl =\n",
              "        document.querySelector('#df-1988993f-67aa-465f-a110-25689e0cbc1d button.colab-df-convert');\n",
              "      buttonEl.style.display =\n",
              "        google.colab.kernel.accessAllowed ? 'block' : 'none';\n",
              "\n",
              "      async function convertToInteractive(key) {\n",
              "        const element = document.querySelector('#df-1988993f-67aa-465f-a110-25689e0cbc1d');\n",
              "        const dataTable =\n",
              "          await google.colab.kernel.invokeFunction('convertToInteractive',\n",
              "                                                    [key], {});\n",
              "        if (!dataTable) return;\n",
              "\n",
              "        const docLinkHtml = 'Like what you see? Visit the ' +\n",
              "          '<a target=\"_blank\" href=https://colab.research.google.com/notebooks/data_table.ipynb>data table notebook</a>'\n",
              "          + ' to learn more about interactive tables.';\n",
              "        element.innerHTML = '';\n",
              "        dataTable['output_type'] = 'display_data';\n",
              "        await google.colab.output.renderOutput(dataTable, element);\n",
              "        const docLink = document.createElement('div');\n",
              "        docLink.innerHTML = docLinkHtml;\n",
              "        element.appendChild(docLink);\n",
              "      }\n",
              "    </script>\n",
              "  </div>\n",
              "\n",
              "\n",
              "    <div id=\"df-a95948ba-a426-47f1-9652-9b26374340d3\">\n",
              "      <button class=\"colab-df-quickchart\" onclick=\"quickchart('df-a95948ba-a426-47f1-9652-9b26374340d3')\"\n",
              "                title=\"Suggest charts\"\n",
              "                style=\"display:none;\">\n",
              "\n",
              "<svg xmlns=\"http://www.w3.org/2000/svg\" height=\"24px\"viewBox=\"0 0 24 24\"\n",
              "     width=\"24px\">\n",
              "    <g>\n",
              "        <path d=\"M19 3H5c-1.1 0-2 .9-2 2v14c0 1.1.9 2 2 2h14c1.1 0 2-.9 2-2V5c0-1.1-.9-2-2-2zM9 17H7v-7h2v7zm4 0h-2V7h2v10zm4 0h-2v-4h2v4z\"/>\n",
              "    </g>\n",
              "</svg>\n",
              "      </button>\n",
              "\n",
              "<style>\n",
              "  .colab-df-quickchart {\n",
              "      --bg-color: #E8F0FE;\n",
              "      --fill-color: #1967D2;\n",
              "      --hover-bg-color: #E2EBFA;\n",
              "      --hover-fill-color: #174EA6;\n",
              "      --disabled-fill-color: #AAA;\n",
              "      --disabled-bg-color: #DDD;\n",
              "  }\n",
              "\n",
              "  [theme=dark] .colab-df-quickchart {\n",
              "      --bg-color: #3B4455;\n",
              "      --fill-color: #D2E3FC;\n",
              "      --hover-bg-color: #434B5C;\n",
              "      --hover-fill-color: #FFFFFF;\n",
              "      --disabled-bg-color: #3B4455;\n",
              "      --disabled-fill-color: #666;\n",
              "  }\n",
              "\n",
              "  .colab-df-quickchart {\n",
              "    background-color: var(--bg-color);\n",
              "    border: none;\n",
              "    border-radius: 50%;\n",
              "    cursor: pointer;\n",
              "    display: none;\n",
              "    fill: var(--fill-color);\n",
              "    height: 32px;\n",
              "    padding: 0;\n",
              "    width: 32px;\n",
              "  }\n",
              "\n",
              "  .colab-df-quickchart:hover {\n",
              "    background-color: var(--hover-bg-color);\n",
              "    box-shadow: 0 1px 2px rgba(60, 64, 67, 0.3), 0 1px 3px 1px rgba(60, 64, 67, 0.15);\n",
              "    fill: var(--button-hover-fill-color);\n",
              "  }\n",
              "\n",
              "  .colab-df-quickchart-complete:disabled,\n",
              "  .colab-df-quickchart-complete:disabled:hover {\n",
              "    background-color: var(--disabled-bg-color);\n",
              "    fill: var(--disabled-fill-color);\n",
              "    box-shadow: none;\n",
              "  }\n",
              "\n",
              "  .colab-df-spinner {\n",
              "    border: 2px solid var(--fill-color);\n",
              "    border-color: transparent;\n",
              "    border-bottom-color: var(--fill-color);\n",
              "    animation:\n",
              "      spin 1s steps(1) infinite;\n",
              "  }\n",
              "\n",
              "  @keyframes spin {\n",
              "    0% {\n",
              "      border-color: transparent;\n",
              "      border-bottom-color: var(--fill-color);\n",
              "      border-left-color: var(--fill-color);\n",
              "    }\n",
              "    20% {\n",
              "      border-color: transparent;\n",
              "      border-left-color: var(--fill-color);\n",
              "      border-top-color: var(--fill-color);\n",
              "    }\n",
              "    30% {\n",
              "      border-color: transparent;\n",
              "      border-left-color: var(--fill-color);\n",
              "      border-top-color: var(--fill-color);\n",
              "      border-right-color: var(--fill-color);\n",
              "    }\n",
              "    40% {\n",
              "      border-color: transparent;\n",
              "      border-right-color: var(--fill-color);\n",
              "      border-top-color: var(--fill-color);\n",
              "    }\n",
              "    60% {\n",
              "      border-color: transparent;\n",
              "      border-right-color: var(--fill-color);\n",
              "    }\n",
              "    80% {\n",
              "      border-color: transparent;\n",
              "      border-right-color: var(--fill-color);\n",
              "      border-bottom-color: var(--fill-color);\n",
              "    }\n",
              "    90% {\n",
              "      border-color: transparent;\n",
              "      border-bottom-color: var(--fill-color);\n",
              "    }\n",
              "  }\n",
              "</style>\n",
              "\n",
              "      <script>\n",
              "        async function quickchart(key) {\n",
              "          const quickchartButtonEl =\n",
              "            document.querySelector('#' + key + ' button');\n",
              "          quickchartButtonEl.disabled = true;  // To prevent multiple clicks.\n",
              "          quickchartButtonEl.classList.add('colab-df-spinner');\n",
              "          try {\n",
              "            const charts = await google.colab.kernel.invokeFunction(\n",
              "                'suggestCharts', [key], {});\n",
              "          } catch (error) {\n",
              "            console.error('Error during call to suggestCharts:', error);\n",
              "          }\n",
              "          quickchartButtonEl.classList.remove('colab-df-spinner');\n",
              "          quickchartButtonEl.classList.add('colab-df-quickchart-complete');\n",
              "        }\n",
              "        (() => {\n",
              "          let quickchartButtonEl =\n",
              "            document.querySelector('#df-a95948ba-a426-47f1-9652-9b26374340d3 button');\n",
              "          quickchartButtonEl.style.display =\n",
              "            google.colab.kernel.accessAllowed ? 'block' : 'none';\n",
              "        })();\n",
              "      </script>\n",
              "    </div>\n",
              "\n",
              "    </div>\n",
              "  </div>\n"
            ],
            "application/vnd.google.colaboratory.intrinsic+json": {
              "type": "dataframe",
              "summary": "{\n  \"name\": \"nvda_data\",\n  \"rows\": 8,\n  \"fields\": [\n    {\n      \"column\": \"Open\",\n      \"properties\": {\n        \"dtype\": \"number\",\n        \"std\": 2143.9112920747425,\n        \"min\": 0.348958,\n        \"max\": 6122.0,\n        \"num_unique_values\": 8,\n        \"samples\": [\n          32.08317218376348,\n          4.32,\n          6122.0\n        ],\n        \"semantic_type\": \"\",\n        \"description\": \"\"\n      }\n    },\n    {\n      \"column\": \"High\",\n      \"properties\": {\n        \"dtype\": \"number\",\n        \"std\": 2143.4278927086516,\n        \"min\": 0.355469,\n        \"max\": 6122.0,\n        \"num_unique_values\": 8,\n        \"samples\": [\n          32.69817819046064,\n          4.4125,\n          6122.0\n        ],\n        \"semantic_type\": \"\",\n        \"description\": \"\"\n      }\n    },\n    {\n      \"column\": \"Low\",\n      \"properties\": {\n        \"dtype\": \"number\",\n        \"std\": 2144.5399924731323,\n        \"min\": 0.333333,\n        \"max\": 6122.0,\n        \"num_unique_values\": 8,\n        \"samples\": [\n          31.452290567298267,\n          4.245,\n          6122.0\n        ],\n        \"semantic_type\": \"\",\n        \"description\": \"\"\n      }\n    },\n    {\n      \"column\": \"Close\",\n      \"properties\": {\n        \"dtype\": \"number\",\n        \"std\": 2143.9568682257072,\n        \"min\": 0.341146,\n        \"max\": 6122.0,\n        \"num_unique_values\": 8,\n        \"samples\": [\n          32.10553906174453,\n          4.335,\n          6122.0\n        ],\n        \"semantic_type\": \"\",\n        \"description\": \"\"\n      }\n    },\n    {\n      \"column\": \"Adj Close\",\n      \"properties\": {\n        \"dtype\": \"number\",\n        \"std\": 2144.035801242035,\n        \"min\": 0.313034,\n        \"max\": 6122.0,\n        \"num_unique_values\": 8,\n        \"samples\": [\n          31.846044453936624,\n          3.981222,\n          6122.0\n        ],\n        \"semantic_type\": \"\",\n        \"description\": \"\"\n      }\n    },\n    {\n      \"column\": \"Volume\",\n      \"properties\": {\n        \"dtype\": \"number\",\n        \"std\": 313949034.2553414,\n        \"min\": 6122.0,\n        \"max\": 923085600.0,\n        \"num_unique_values\": 8,\n        \"samples\": [\n          61284301.845802024,\n          51382200.0,\n          6122.0\n        ],\n        \"semantic_type\": \"\",\n        \"description\": \"\"\n      }\n    }\n  ]\n}"
            }
          },
          "metadata": {},
          "execution_count": 42
        }
      ]
    },
    {
      "cell_type": "code",
      "source": [
        "nvda_data['Date'] = pd.to_datetime(nvda_data['Date'])\n",
        "nvda_data = nvda_data.sort_values(by = 'Date')"
      ],
      "metadata": {
        "id": "LrRrViGc0W8B"
      },
      "execution_count": 43,
      "outputs": []
    },
    {
      "cell_type": "code",
      "source": [
        "import matplotlib.pyplot as plt\n",
        "import pandas as pd\n",
        "import numpy as np\n",
        "from datetime import datetime"
      ],
      "metadata": {
        "id": "IOZj8oFg0a88"
      },
      "execution_count": 44,
      "outputs": []
    },
    {
      "cell_type": "markdown",
      "source": [
        "Line plots with single line:"
      ],
      "metadata": {
        "id": "UAa0jIo20_Fk"
      }
    },
    {
      "cell_type": "code",
      "source": [
        "plt.plot(nvda_data['Date'], nvda_data['Close'])\n",
        "plt.show()"
      ],
      "metadata": {
        "id": "RyVUiZxM0ceM",
        "colab": {
          "base_uri": "https://localhost:8080/",
          "height": 435
        },
        "outputId": "69dd6603-cabd-4b04-dd54-fc594f285d1e"
      },
      "execution_count": 45,
      "outputs": [
        {
          "output_type": "display_data",
          "data": {
            "text/plain": [
              "<Figure size 640x480 with 1 Axes>"
            ],
            "image/png": "[encoded data removed]"
          },
          "metadata": {}
        }
      ]
    },
    {
      "cell_type": "markdown",
      "source": [
        "Line plots with multiple lines:"
      ],
      "metadata": {
        "id": "wdSffEps1EjS"
      }
    },
    {
      "cell_type": "code",
      "source": [
        "plt.plot(nvda_data['Date'], nvda_data['Open'])\n",
        "plt.plot(nvda_data['Date'], nvda_data['Close'])\n",
        "\n",
        "\n",
        "plt.show()"
      ],
      "metadata": {
        "id": "ag71CkFj00KE",
        "colab": {
          "base_uri": "https://localhost:8080/",
          "height": 433
        },
        "outputId": "d4bff1c6-50ac-44fc-cf48-433c6f3ee7ba"
      },
      "execution_count": 46,
      "outputs": [
        {
          "output_type": "display_data",
          "data": {
            "text/plain": [
              "<Figure size 640x480 with 1 Axes>"
            ],
            "image/png": "[encoded data removed]"
          },
          "metadata": {}
        }
      ]
    },
    {
      "cell_type": "markdown",
      "source": [
        "Adding legends"
      ],
      "metadata": {
        "id": "fpsrCJqZ1KIY"
      }
    },
    {
      "cell_type": "code",
      "source": [
        "plt.plot(nvda_data['Date'], nvda_data['Open'], label = 'Open')\n",
        "plt.plot(nvda_data['Date'], nvda_data['Close'], label = 'Close')\n",
        "plt.legend()\n",
        "plt.show()"
      ],
      "metadata": {
        "id": "LFslsgpi1Lpn",
        "colab": {
          "base_uri": "https://localhost:8080/",
          "height": 433
        },
        "outputId": "5c3c931b-e180-4efa-b920-98c3de97a294"
      },
      "execution_count": 47,
      "outputs": [
        {
          "output_type": "display_data",
          "data": {
            "text/plain": [
              "<Figure size 640x480 with 1 Axes>"
            ],
            "image/png": "[encoded data removed]"
          },
          "metadata": {}
        }
      ]
    },
    {
      "cell_type": "markdown",
      "source": [
        "Bar plots"
      ],
      "metadata": {
        "id": "IEKNtXp51T8B"
      }
    },
    {
      "cell_type": "code",
      "source": [
        "# Import the calendar package\n",
        "from calendar import month_name\n",
        "\n",
        "# Order by months by chronological order\n",
        "nvda_data['Month'] = pd.Categorical(nvda_data['Date'].dt.month_name(), month_name[1:])\n",
        "\n",
        "# Group metrics by monthly averages\n",
        "nvda_monthly_mean = nvda_data \\\n",
        "    .groupby('Month') \\\n",
        "    .mean() \\\n",
        "    .reset_index()\n",
        "\n",
        "\n",
        "nvda_monthly_mean.head(6)"
      ],
      "metadata": {
        "id": "0-irE6aj1V2B",
        "colab": {
          "base_uri": "https://localhost:8080/",
          "height": 292
        },
        "outputId": "f47a36cf-bdf6-4c9a-8e07-3fbac2ab9f65"
      },
      "execution_count": 48,
      "outputs": [
        {
          "output_type": "stream",
          "name": "stderr",
          "text": [
            "<ipython-input-48-7c99ba3869c0>:9: FutureWarning: The default of observed=False is deprecated and will be changed to True in a future version of pandas. Pass observed=False to retain current behavior or observed=True to adopt the future default and silence this warning.\n",
            "  .groupby('Month') \\\n"
          ]
        },
        {
          "output_type": "execute_result",
          "data": {
            "text/plain": [
              "      Month                          Date       Open       High        Low  \\\n",
              "0   January 2011-05-10 08:55:36.585365760  32.859387  33.595764  32.120129   \n",
              "1  February 2011-02-08 09:37:12.150312960  34.303266  35.145012  33.597539   \n",
              "2     March 2011-03-24 21:07:12.000000000  36.193670  36.979199  35.421809   \n",
              "3     April 2011-04-07 12:51:43.689320448  35.421679  35.998511  34.691974   \n",
              "4       May 2011-03-15 01:31:02.068965632  32.503330  33.177735  31.891554   \n",
              "5      June 2010-12-15 14:49:49.473683968  27.270376  27.738444  26.790985   \n",
              "\n",
              "       Close  Adj Close        Volume  \n",
              "0  32.899645  32.631037  6.276384e+07  \n",
              "1  34.430183  34.164809  6.712137e+07  \n",
              "2  36.268688  36.021263  6.453156e+07  \n",
              "3  35.284618  35.034071  5.916900e+07  \n",
              "4  32.624685  32.364495  6.898816e+07  \n",
              "5  27.283056  27.020531  6.129266e+07  "
            ],
            "text/html": [
              "\n",
              "  <div id=\"df-c29f40ed-ca13-48cd-9811-e8c7e9334b4f\" class=\"colab-df-container\">\n",
              "    <div>\n",
              "<style scoped>\n",
              "    .dataframe tbody tr th:only-of-type {\n",
              "        vertical-align: middle;\n",
              "    }\n",
              "\n",
              "    .dataframe tbody tr th {\n",
              "        vertical-align: top;\n",
              "    }\n",
              "\n",
              "    .dataframe thead th {\n",
              "        text-align: right;\n",
              "    }\n",
              "</style>\n",
              "<table border=\"1\" class=\"dataframe\">\n",
              "  <thead>\n",
              "    <tr style=\"text-align: right;\">\n",
              "      <th></th>\n",
              "      <th>Month</th>\n",
              "      <th>Date</th>\n",
              "      <th>Open</th>\n",
              "      <th>High</th>\n",
              "      <th>Low</th>\n",
              "      <th>Close</th>\n",
              "      <th>Adj Close</th>\n",
              "      <th>Volume</th>\n",
              "    </tr>\n",
              "  </thead>\n",
              "  <tbody>\n",
              "    <tr>\n",
              "      <th>0</th>\n",
              "      <td>January</td>\n",
              "      <td>2011-05-10 08:55:36.585365760</td>\n",
              "      <td>32.859387</td>\n",
              "      <td>33.595764</td>\n",
              "      <td>32.120129</td>\n",
              "      <td>32.899645</td>\n",
              "      <td>32.631037</td>\n",
              "      <td>6.276384e+07</td>\n",
              "    </tr>\n",
              "    <tr>\n",
              "      <th>1</th>\n",
              "      <td>February</td>\n",
              "      <td>2011-02-08 09:37:12.150312960</td>\n",
              "      <td>34.303266</td>\n",
              "      <td>35.145012</td>\n",
              "      <td>33.597539</td>\n",
              "      <td>34.430183</td>\n",
              "      <td>34.164809</td>\n",
              "      <td>6.712137e+07</td>\n",
              "    </tr>\n",
              "    <tr>\n",
              "      <th>2</th>\n",
              "      <td>March</td>\n",
              "      <td>2011-03-24 21:07:12.000000000</td>\n",
              "      <td>36.193670</td>\n",
              "      <td>36.979199</td>\n",
              "      <td>35.421809</td>\n",
              "      <td>36.268688</td>\n",
              "      <td>36.021263</td>\n",
              "      <td>6.453156e+07</td>\n",
              "    </tr>\n",
              "    <tr>\n",
              "      <th>3</th>\n",
              "      <td>April</td>\n",
              "      <td>2011-04-07 12:51:43.689320448</td>\n",
              "      <td>35.421679</td>\n",
              "      <td>35.998511</td>\n",
              "      <td>34.691974</td>\n",
              "      <td>35.284618</td>\n",
              "      <td>35.034071</td>\n",
              "      <td>5.916900e+07</td>\n",
              "    </tr>\n",
              "    <tr>\n",
              "      <th>4</th>\n",
              "      <td>May</td>\n",
              "      <td>2011-03-15 01:31:02.068965632</td>\n",
              "      <td>32.503330</td>\n",
              "      <td>33.177735</td>\n",
              "      <td>31.891554</td>\n",
              "      <td>32.624685</td>\n",
              "      <td>32.364495</td>\n",
              "      <td>6.898816e+07</td>\n",
              "    </tr>\n",
              "    <tr>\n",
              "      <th>5</th>\n",
              "      <td>June</td>\n",
              "      <td>2010-12-15 14:49:49.473683968</td>\n",
              "      <td>27.270376</td>\n",
              "      <td>27.738444</td>\n",
              "      <td>26.790985</td>\n",
              "      <td>27.283056</td>\n",
              "      <td>27.020531</td>\n",
              "      <td>6.129266e+07</td>\n",
              "    </tr>\n",
              "  </tbody>\n",
              "</table>\n",
              "</div>\n",
              "    <div class=\"colab-df-buttons\">\n",
              "\n",
              "  <div class=\"colab-df-container\">\n",
              "    <button class=\"colab-df-convert\" onclick=\"convertToInteractive('df-c29f40ed-ca13-48cd-9811-e8c7e9334b4f')\"\n",
              "            title=\"Convert this dataframe to an interactive table.\"\n",
              "            style=\"display:none;\">\n",
              "\n",
              "  <svg xmlns=\"http://www.w3.org/2000/svg\" height=\"24px\" viewBox=\"0 -960 960 960\">\n",
              "    <path d=\"M120-120v-720h720v720H120Zm60-500h600v-160H180v160Zm220 220h160v-160H400v160Zm0 220h160v-160H400v160ZM180-400h160v-160H180v160Zm440 0h160v-160H620v160ZM180-180h160v-160H180v160Zm440 0h160v-160H620v160Z\"/>\n",
              "  </svg>\n",
              "    </button>\n",
              "\n",
              "  <style>\n",
              "    .colab-df-container {\n",
              "      display:flex;\n",
              "      gap: 12px;\n",
              "    }\n",
              "\n",
              "    .colab-df-convert {\n",
              "      background-color: #E8F0FE;\n",
              "      border: none;\n",
              "      border-radius: 50%;\n",
              "      cursor: pointer;\n",
              "      display: none;\n",
              "      fill: #1967D2;\n",
              "      height: 32px;\n",
              "      padding: 0 0 0 0;\n",
              "      width: 32px;\n",
              "    }\n",
              "\n",
              "    .colab-df-convert:hover {\n",
              "      background-color: #E2EBFA;\n",
              "      box-shadow: 0px 1px 2px rgba(60, 64, 67, 0.3), 0px 1px 3px 1px rgba(60, 64, 67, 0.15);\n",
              "      fill: #174EA6;\n",
              "    }\n",
              "\n",
              "    .colab-df-buttons div {\n",
              "      margin-bottom: 4px;\n",
              "    }\n",
              "\n",
              "    [theme=dark] .colab-df-convert {\n",
              "      background-color: #3B4455;\n",
              "      fill: #D2E3FC;\n",
              "    }\n",
              "\n",
              "    [theme=dark] .colab-df-convert:hover {\n",
              "      background-color: #434B5C;\n",
              "      box-shadow: 0px 1px 3px 1px rgba(0, 0, 0, 0.15);\n",
              "      filter: drop-shadow(0px 1px 2px rgba(0, 0, 0, 0.3));\n",
              "      fill: #FFFFFF;\n",
              "    }\n",
              "  </style>\n",
              "\n",
              "    <script>\n",
              "      const buttonEl =\n",
              "        document.querySelector('#df-c29f40ed-ca13-48cd-9811-e8c7e9334b4f button.colab-df-convert');\n",
              "      buttonEl.style.display =\n",
              "        google.colab.kernel.accessAllowed ? 'block' : 'none';\n",
              "\n",
              "      async function convertToInteractive(key) {\n",
              "        const element = document.querySelector('#df-c29f40ed-ca13-48cd-9811-e8c7e9334b4f');\n",
              "        const dataTable =\n",
              "          await google.colab.kernel.invokeFunction('convertToInteractive',\n",
              "                                                    [key], {});\n",
              "        if (!dataTable) return;\n",
              "\n",
              "        const docLinkHtml = 'Like what you see? Visit the ' +\n",
              "          '<a target=\"_blank\" href=https://colab.research.google.com/notebooks/data_table.ipynb>data table notebook</a>'\n",
              "          + ' to learn more about interactive tables.';\n",
              "        element.innerHTML = '';\n",
              "        dataTable['output_type'] = 'display_data';\n",
              "        await google.colab.output.renderOutput(dataTable, element);\n",
              "        const docLink = document.createElement('div');\n",
              "        docLink.innerHTML = docLinkHtml;\n",
              "        element.appendChild(docLink);\n",
              "      }\n",
              "    </script>\n",
              "  </div>\n",
              "\n",
              "\n",
              "    <div id=\"df-02ebc6ba-023d-48f5-b787-a7004b2d5865\">\n",
              "      <button class=\"colab-df-quickchart\" onclick=\"quickchart('df-02ebc6ba-023d-48f5-b787-a7004b2d5865')\"\n",
              "                title=\"Suggest charts\"\n",
              "                style=\"display:none;\">\n",
              "\n",
              "<svg xmlns=\"http://www.w3.org/2000/svg\" height=\"24px\"viewBox=\"0 0 24 24\"\n",
              "     width=\"24px\">\n",
              "    <g>\n",
              "        <path d=\"M19 3H5c-1.1 0-2 .9-2 2v14c0 1.1.9 2 2 2h14c1.1 0 2-.9 2-2V5c0-1.1-.9-2-2-2zM9 17H7v-7h2v7zm4 0h-2V7h2v10zm4 0h-2v-4h2v4z\"/>\n",
              "    </g>\n",
              "</svg>\n",
              "      </button>\n",
              "\n",
              "<style>\n",
              "  .colab-df-quickchart {\n",
              "      --bg-color: #E8F0FE;\n",
              "      --fill-color: #1967D2;\n",
              "      --hover-bg-color: #E2EBFA;\n",
              "      --hover-fill-color: #174EA6;\n",
              "      --disabled-fill-color: #AAA;\n",
              "      --disabled-bg-color: #DDD;\n",
              "  }\n",
              "\n",
              "  [theme=dark] .colab-df-quickchart {\n",
              "      --bg-color: #3B4455;\n",
              "      --fill-color: #D2E3FC;\n",
              "      --hover-bg-color: #434B5C;\n",
              "      --hover-fill-color: #FFFFFF;\n",
              "      --disabled-bg-color: #3B4455;\n",
              "      --disabled-fill-color: #666;\n",
              "  }\n",
              "\n",
              "  .colab-df-quickchart {\n",
              "    background-color: var(--bg-color);\n",
              "    border: none;\n",
              "    border-radius: 50%;\n",
              "    cursor: pointer;\n",
              "    display: none;\n",
              "    fill: var(--fill-color);\n",
              "    height: 32px;\n",
              "    padding: 0;\n",
              "    width: 32px;\n",
              "  }\n",
              "\n",
              "  .colab-df-quickchart:hover {\n",
              "    background-color: var(--hover-bg-color);\n",
              "    box-shadow: 0 1px 2px rgba(60, 64, 67, 0.3), 0 1px 3px 1px rgba(60, 64, 67, 0.15);\n",
              "    fill: var(--button-hover-fill-color);\n",
              "  }\n",
              "\n",
              "  .colab-df-quickchart-complete:disabled,\n",
              "  .colab-df-quickchart-complete:disabled:hover {\n",
              "    background-color: var(--disabled-bg-color);\n",
              "    fill: var(--disabled-fill-color);\n",
              "    box-shadow: none;\n",
              "  }\n",
              "\n",
              "  .colab-df-spinner {\n",
              "    border: 2px solid var(--fill-color);\n",
              "    border-color: transparent;\n",
              "    border-bottom-color: var(--fill-color);\n",
              "    animation:\n",
              "      spin 1s steps(1) infinite;\n",
              "  }\n",
              "\n",
              "  @keyframes spin {\n",
              "    0% {\n",
              "      border-color: transparent;\n",
              "      border-bottom-color: var(--fill-color);\n",
              "      border-left-color: var(--fill-color);\n",
              "    }\n",
              "    20% {\n",
              "      border-color: transparent;\n",
              "      border-left-color: var(--fill-color);\n",
              "      border-top-color: var(--fill-color);\n",
              "    }\n",
              "    30% {\n",
              "      border-color: transparent;\n",
              "      border-left-color: var(--fill-color);\n",
              "      border-top-color: var(--fill-color);\n",
              "      border-right-color: var(--fill-color);\n",
              "    }\n",
              "    40% {\n",
              "      border-color: transparent;\n",
              "      border-right-color: var(--fill-color);\n",
              "      border-top-color: var(--fill-color);\n",
              "    }\n",
              "    60% {\n",
              "      border-color: transparent;\n",
              "      border-right-color: var(--fill-color);\n",
              "    }\n",
              "    80% {\n",
              "      border-color: transparent;\n",
              "      border-right-color: var(--fill-color);\n",
              "      border-bottom-color: var(--fill-color);\n",
              "    }\n",
              "    90% {\n",
              "      border-color: transparent;\n",
              "      border-bottom-color: var(--fill-color);\n",
              "    }\n",
              "  }\n",
              "</style>\n",
              "\n",
              "      <script>\n",
              "        async function quickchart(key) {\n",
              "          const quickchartButtonEl =\n",
              "            document.querySelector('#' + key + ' button');\n",
              "          quickchartButtonEl.disabled = true;  // To prevent multiple clicks.\n",
              "          quickchartButtonEl.classList.add('colab-df-spinner');\n",
              "          try {\n",
              "            const charts = await google.colab.kernel.invokeFunction(\n",
              "                'suggestCharts', [key], {});\n",
              "          } catch (error) {\n",
              "            console.error('Error during call to suggestCharts:', error);\n",
              "          }\n",
              "          quickchartButtonEl.classList.remove('colab-df-spinner');\n",
              "          quickchartButtonEl.classList.add('colab-df-quickchart-complete');\n",
              "        }\n",
              "        (() => {\n",
              "          let quickchartButtonEl =\n",
              "            document.querySelector('#df-02ebc6ba-023d-48f5-b787-a7004b2d5865 button');\n",
              "          quickchartButtonEl.style.display =\n",
              "            google.colab.kernel.accessAllowed ? 'block' : 'none';\n",
              "        })();\n",
              "      </script>\n",
              "    </div>\n",
              "\n",
              "    </div>\n",
              "  </div>\n"
            ],
            "application/vnd.google.colaboratory.intrinsic+json": {
              "type": "dataframe",
              "variable_name": "nvda_monthly_mean",
              "summary": "{\n  \"name\": \"nvda_monthly_mean\",\n  \"rows\": 12,\n  \"fields\": [\n    {\n      \"column\": \"Month\",\n      \"properties\": {\n        \"dtype\": \"category\",\n        \"num_unique_values\": 12,\n        \"samples\": [\n          \"November\",\n          \"October\",\n          \"January\"\n        ],\n        \"semantic_type\": \"\",\n        \"description\": \"\"\n      }\n    },\n    {\n      \"column\": \"Date\",\n      \"properties\": {\n        \"dtype\": \"date\",\n        \"min\": \"2010-12-15 14:49:49.473683968\",\n        \"max\": \"2011-06-18 12:54:04.268774656\",\n        \"num_unique_values\": 12,\n        \"samples\": [\n          \"2011-05-15 07:16:05.853658624\",\n          \"2011-04-06 07:19:05.454545664\",\n          \"2011-05-10 08:55:36.585365760\"\n        ],\n        \"semantic_type\": \"\",\n        \"description\": \"\"\n      }\n    },\n    {\n      \"column\": \"Open\",\n      \"properties\": {\n        \"dtype\": \"number\",\n        \"std\": 3.128444684866211,\n        \"min\": 27.270376407407408,\n        \"max\": 36.19367000909091,\n        \"num_unique_values\": 12,\n        \"samples\": [\n          34.64510253455285,\n          29.158032924242423,\n          32.85938704674797\n        ],\n        \"semantic_type\": \"\",\n        \"description\": \"\"\n      }\n    },\n    {\n      \"column\": \"High\",\n      \"properties\": {\n        \"dtype\": \"number\",\n        \"std\": 3.2334962593239043,\n        \"min\": 27.73844438986355,\n        \"max\": 36.97919928545454,\n        \"num_unique_values\": 12,\n        \"samples\": [\n          35.3882533597561,\n          29.683249274621215,\n          33.59576366260163\n        ],\n        \"semantic_type\": \"\",\n        \"description\": \"\"\n      }\n    },\n    {\n      \"column\": \"Low\",\n      \"properties\": {\n        \"dtype\": \"number\",\n        \"std\": 3.0033467206161175,\n        \"min\": 26.790985409356725,\n        \"max\": 35.42180926,\n        \"num_unique_values\": 12,\n        \"samples\": [\n          33.88931876829268,\n          28.66832407007576,\n          32.120129087398375\n        ],\n        \"semantic_type\": \"\",\n        \"description\": \"\"\n      }\n    },\n    {\n      \"column\": \"Close\",\n      \"properties\": {\n        \"dtype\": \"number\",\n        \"std\": 3.1126242713557564,\n        \"min\": 27.283056358674465,\n        \"max\": 36.26868760909091,\n        \"num_unique_values\": 12,\n        \"samples\": [\n          34.66402865650406,\n          29.18169506628788,\n          32.89964542073171\n        ],\n        \"semantic_type\": \"\",\n        \"description\": \"\"\n      }\n    },\n    {\n      \"column\": \"Adj Close\",\n      \"properties\": {\n        \"dtype\": \"number\",\n        \"std\": 3.112127028528369,\n        \"min\": 27.020531461988302,\n        \"max\": 36.02126288,\n        \"num_unique_values\": 12,\n        \"samples\": [\n          34.392260926829266,\n          28.920896350378786,\n          32.63103701829269\n        ],\n        \"semantic_type\": \"\",\n        \"description\": \"\"\n      }\n    },\n    {\n      \"column\": \"Volume\",\n      \"properties\": {\n        \"dtype\": \"number\",\n        \"std\": 5215390.376060291,\n        \"min\": 51300724.3083004,\n        \"max\": 68988160.91954023,\n        \"num_unique_values\": 12,\n        \"samples\": [\n          65393601.42276423,\n          53915464.96212121,\n          62763837.80487805\n        ],\n        \"semantic_type\": \"\",\n        \"description\": \"\"\n      }\n    }\n  ]\n}"
            }
          },
          "metadata": {},
          "execution_count": 48
        }
      ]
    },
    {
      "cell_type": "code",
      "source": [
        "plt.bar(nvda_monthly_mean['Month'], height = nvda_monthly_mean['Close'])\n",
        "plt.show()"
      ],
      "metadata": {
        "id": "D_gukiUs12Iw",
        "colab": {
          "base_uri": "https://localhost:8080/",
          "height": 430
        },
        "outputId": "81b2b3cf-4ed0-451f-9813-8356b50f6109"
      },
      "execution_count": 49,
      "outputs": [
        {
          "output_type": "display_data",
          "data": {
            "text/plain": [
              "<Figure size 640x480 with 1 Axes>"
            ],
            "image/png": "[encoded data removed]"
          },
          "metadata": {}
        }
      ]
    },
    {
      "cell_type": "code",
      "source": [
        "plt.barh(nvda_monthly_mean['Month'], width = nvda_monthly_mean['Close'])\n",
        "plt.show()"
      ],
      "metadata": {
        "id": "JJ-Bpc0T2Co1",
        "colab": {
          "base_uri": "https://localhost:8080/",
          "height": 430
        },
        "outputId": "282fd08d-460b-4a75-c6d8-9667bb7a8767"
      },
      "execution_count": 50,
      "outputs": [
        {
          "output_type": "display_data",
          "data": {
            "text/plain": [
              "<Figure size 640x480 with 1 Axes>"
            ],
            "image/png": "[encoded data removed]"
          },
          "metadata": {}
        }
      ]
    },
    {
      "cell_type": "markdown",
      "source": [
        "Scatter plots"
      ],
      "metadata": {
        "id": "mpzSy7TI2tla"
      }
    },
    {
      "cell_type": "code",
      "source": [
        "plt.scatter(nvda_data['Open'], nvda_data['Close'])\n",
        "plt.show()"
      ],
      "metadata": {
        "id": "cVqbdAyP2tOD",
        "colab": {
          "base_uri": "https://localhost:8080/",
          "height": 435
        },
        "outputId": "0218daee-cd88-4473-e1a3-6e3866330b23"
      },
      "execution_count": 51,
      "outputs": [
        {
          "output_type": "display_data",
          "data": {
            "text/plain": [
              "<Figure size 640x480 with 1 Axes>"
            ],
            "image/png": "[encoded data removed]"
          },
          "metadata": {}
        }
      ]
    },
    {
      "cell_type": "markdown",
      "source": [
        "Scatter plot with a trend line"
      ],
      "metadata": {
        "id": "LKnkJ5xL20WL"
      }
    },
    {
      "cell_type": "code",
      "source": [
        "z = np.polyfit(nvda_data['Open'], nvda_data['Close'], 1)\n",
        "p = np.poly1d(z)\n",
        "\n",
        "\n",
        "plt.scatter(nvda_data['Open'], nvda_data['Close'])\n",
        "plt.plot(nvda_data['Open'], p(nvda_data['Open']))\n",
        "plt.show()"
      ],
      "metadata": {
        "id": "QHnqs14q22Ua",
        "colab": {
          "base_uri": "https://localhost:8080/",
          "height": 433
        },
        "outputId": "3fc98956-907e-4ca0-9a92-07dfaaaa12f6"
      },
      "execution_count": 52,
      "outputs": [
        {
          "output_type": "display_data",
          "data": {
            "text/plain": [
              "<Figure size 640x480 with 1 Axes>"
            ],
            "image/png": "[encoded data removed]"
          },
          "metadata": {}
        }
      ]
    },
    {
      "cell_type": "markdown",
      "source": [
        "Changing colors"
      ],
      "metadata": {
        "id": "4eUSjDil3WUh"
      }
    },
    {
      "cell_type": "code",
      "source": [
        "plt.plot(nvda_data['Date'], nvda_data['Open'], color = 'black')\n",
        "plt.plot(nvda_data['Date'], nvda_data['Close'], color = 'red')\n",
        "plt.show()"
      ],
      "metadata": {
        "id": "6qSEUJGE3YE5",
        "colab": {
          "base_uri": "https://localhost:8080/",
          "height": 433
        },
        "outputId": "1f193fcb-40f0-40f0-a172-69725b4c8a3b"
      },
      "execution_count": 53,
      "outputs": [
        {
          "output_type": "display_data",
          "data": {
            "text/plain": [
              "<Figure size 640x480 with 1 Axes>"
            ],
            "image/png": "[encoded data removed]"
          },
          "metadata": {}
        }
      ]
    },
    {
      "cell_type": "code",
      "source": [
        "plt.bar(nvda_monthly_mean['Month'], height = nvda_monthly_mean['Close'], color = ['blue', 'gray', 'gray', 'red', 'gray', 'gray'])\n",
        "plt.show()"
      ],
      "metadata": {
        "id": "Xq1bjqOP3fjL",
        "colab": {
          "base_uri": "https://localhost:8080/",
          "height": 430
        },
        "outputId": "935b417d-2ac3-4bd5-c46a-0194af92b4ad"
      },
      "execution_count": 54,
      "outputs": [
        {
          "output_type": "display_data",
          "data": {
            "text/plain": [
              "<Figure size 640x480 with 1 Axes>"
            ],
            "image/png": "[encoded data removed]"
          },
          "metadata": {}
        }
      ]
    },
    {
      "cell_type": "code",
      "source": [
        "plt.scatter(nvda_data[nvda_data['Month'] == 'January']['Open'], nvda_data[nvda_data['Month'] == 'January']['Close'], color = 'blue')\n",
        "\n",
        "plt.scatter(nvda_data[nvda_data['Month'] != 'January']['Open'], nvda_data[nvda_data['Month'] != 'January']['Close'], color = 'gray')\n",
        "\n",
        "plt.show()"
      ],
      "metadata": {
        "id": "fV4coBxp3s8a",
        "colab": {
          "base_uri": "https://localhost:8080/",
          "height": 435
        },
        "outputId": "a5ac5d7b-15b7-4b7b-ed9c-9b93a7a1243b"
      },
      "execution_count": 55,
      "outputs": [
        {
          "output_type": "display_data",
          "data": {
            "text/plain": [
              "<Figure size 640x480 with 1 Axes>"
            ],
            "image/png": "[encoded data removed]"
          },
          "metadata": {}
        }
      ]
    },
    {
      "cell_type": "markdown",
      "source": [
        "ColourMaps"
      ],
      "metadata": {
        "id": "VyxF3qFU337O"
      }
    },
    {
      "cell_type": "code",
      "source": [
        "plt.scatter(nvda_data['Open'], nvda_data['Close'], c=nvda_data['Close'], cmap = plt.cm.plasma)\n",
        "\n",
        "plt.show()"
      ],
      "metadata": {
        "id": "5Pfz0kX035Tz",
        "colab": {
          "base_uri": "https://localhost:8080/",
          "height": 435
        },
        "outputId": "dc663daa-4225-4451-f748-44290793bee6"
      },
      "execution_count": 56,
      "outputs": [
        {
          "output_type": "display_data",
          "data": {
            "text/plain": [
              "<Figure size 640x480 with 1 Axes>"
            ],
            "image/png": "[encoded data removed]"
          },
          "metadata": {}
        }
      ]
    },
    {
      "cell_type": "markdown",
      "source": [
        "Pie Charts"
      ],
      "metadata": {
        "id": "IoV_4FOP4SiI"
      }
    },
    {
      "cell_type": "code",
      "source": [
        "import matplotlib.pyplot as plt\n",
        "# data to display on plots\n",
        "x = [1, 2, 3, 4]\n",
        "\n",
        "# this will explode the 1st wedge\n",
        "# i.e. will separate the 1st wedge\n",
        "# from the chart\n",
        "e  =(0.1, 0, 0, 0)\n",
        "\n",
        "# This will plot a simple pie chart\n",
        "plt.pie(x, explode = e)\n",
        "\n",
        "# Title to the plot\n",
        "plt.title(\"Pie chart\")\n",
        "plt.show()\n"
      ],
      "metadata": {
        "id": "4eSKfkNE4TlA",
        "colab": {
          "base_uri": "https://localhost:8080/",
          "height": 428
        },
        "outputId": "742be7ff-e74b-4420-e987-7280305780ad"
      },
      "execution_count": 57,
      "outputs": [
        {
          "output_type": "display_data",
          "data": {
            "text/plain": [
              "<Figure size 640x480 with 1 Axes>"
            ],
            "image/png": "[encoded data removed]"
          },
          "metadata": {}
        }
      ]
    },
    {
      "cell_type": "markdown",
      "source": [
        "Stack plots"
      ],
      "metadata": {
        "id": "T0i_PsSl4XhX"
      }
    },
    {
      "cell_type": "code",
      "source": [
        "import matplotlib.pyplot as plt\n",
        "\n",
        "# List of Days\n",
        "days = [1, 2, 3, 4, 5]\n",
        "\n",
        "# No of Study Hours\n",
        "Studying = [7, 8, 6, 11, 7]\n",
        "\n",
        "# No of Playing Hours\n",
        "playing = [8, 5, 7, 8, 13]\n",
        "\n",
        "# Stackplot with X, Y, colors value\n",
        "plt.stackplot(days, Studying, playing,\n",
        "            colors =['r', 'c'])\n",
        "\n",
        "# Days\n",
        "plt.xlabel('Days')\n",
        "\n",
        "# No of hours\n",
        "plt.ylabel('No of Hours')\n",
        "\n",
        "# Title of Graph\n",
        "plt.title('Representation of Study and \\\n",
        "Playing wrt to Days')\n",
        "\n",
        "# Displaying Graph\n",
        "plt.show()\n"
      ],
      "metadata": {
        "id": "jHG-YDt_4YYY",
        "colab": {
          "base_uri": "https://localhost:8080/",
          "height": 472
        },
        "outputId": "092de8c8-07ec-4f4f-90ce-c3720e35fc36"
      },
      "execution_count": 58,
      "outputs": [
        {
          "output_type": "display_data",
          "data": {
            "text/plain": [
              "<Figure size 640x480 with 1 Axes>"
            ],
            "image/png": "[encoded data removed]"
          },
          "metadata": {}
        }
      ]
    },
    {
      "cell_type": "markdown",
      "source": [
        "3D plots"
      ],
      "metadata": {
        "id": "S2YWzZdM4Mcn"
      }
    },
    {
      "cell_type": "code",
      "source": [
        "import matplotlib.pyplot as plt\n",
        "# Creating the figure object\n",
        "fig = plt.figure()\n",
        "\n",
        "# keeping the projection = 3d\n",
        "# creates the 3d plot\n",
        "ax = plt.axes(projection = '3d')\n"
      ],
      "metadata": {
        "id": "lxYGvchO4MLY",
        "colab": {
          "base_uri": "https://localhost:8080/",
          "height": 418
        },
        "outputId": "49324b46-1022-4fe4-8e21-9aefd7f87b8a"
      },
      "execution_count": 59,
      "outputs": [
        {
          "output_type": "display_data",
          "data": {
            "text/plain": [
              "<Figure size 640x480 with 1 Axes>"
            ],
            "image/png": "[encoded data removed]"
          },
          "metadata": {}
        }
      ]
    },
    {
      "cell_type": "code",
      "source": [
        "import matplotlib.pyplot as plt\n",
        "x = [1, 2, 3, 4, 5]\n",
        "y = [1, 4, 9, 16, 25]\n",
        "z = [1, 8, 27, 64, 125]\n",
        "# Creating the figure object\n",
        "fig = plt.figure()\n",
        "# keeping the projection = 3d\n",
        "# creates the 3d plot\n",
        "ax = plt.axes(projection = '3d')\n",
        "ax.plot3D(z, y, x)\n"
      ],
      "metadata": {
        "id": "omMG2IRP4PT0",
        "colab": {
          "base_uri": "https://localhost:8080/",
          "height": 431
        },
        "outputId": "ab2f466c-84d2-4f2a-92e9-62fa684e2249"
      },
      "execution_count": 60,
      "outputs": [
        {
          "output_type": "execute_result",
          "data": {
            "text/plain": [
              "[<mpl_toolkits.mplot3d.art3d.Line3D at 0x791443ba1e10>]"
            ]
          },
          "metadata": {},
          "execution_count": 60
        },
        {
          "output_type": "display_data",
          "data": {
            "text/plain": [
              "<Figure size 640x480 with 1 Axes>"
            ],
            "image/png": "[encoded data removed]"
          },
          "metadata": {}
        }
      ]
    }
  ]
}